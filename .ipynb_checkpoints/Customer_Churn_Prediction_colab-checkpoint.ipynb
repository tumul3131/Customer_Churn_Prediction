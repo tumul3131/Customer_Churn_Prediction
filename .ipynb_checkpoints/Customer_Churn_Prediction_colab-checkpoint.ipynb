{
 "cells": [
  {
   "cell_type": "markdown",
   "metadata": {
    "id": "Ufwsz_VYy2Qk"
   },
   "source": [
    "# TELECOM CUSTOMER CHURN PREDICTION 📈"
   ]
  },
  {
   "cell_type": "markdown",
   "metadata": {
    "id": "Oje1JzcYzpez"
   },
   "source": [
    "## Importing Libraries"
   ]
  },
  {
   "cell_type": "code",
   "execution_count": 1,
   "metadata": {
    "id": "RKfnbJLuzyZN"
   },
   "outputs": [],
   "source": [
    "import numpy as np\n",
    "import pandas as pd\n",
    "import seaborn as sns\n",
    "import matplotlib.ticker as mtick\n",
    "import matplotlib.pyplot as plt\n",
    "%matplotlib inline"
   ]
  },
  {
   "cell_type": "code",
   "execution_count": 2,
   "metadata": {
    "id": "nxTLgCRTz0ca"
   },
   "outputs": [],
   "source": [
    "df = pd.read_csv(\"CustomerChurnPrediction.csv\")"
   ]
  },
  {
   "cell_type": "code",
   "execution_count": 3,
   "metadata": {
    "colab": {
     "base_uri": "https://localhost:8080/",
     "height": 342
    },
    "id": "ySHrw7M2z4Yc",
    "outputId": "cd5f026d-04f1-4619-b81c-92bfbacb3bca"
   },
   "outputs": [
    {
     "data": {
      "text/html": [
       "<div>\n",
       "<style scoped>\n",
       "    .dataframe tbody tr th:only-of-type {\n",
       "        vertical-align: middle;\n",
       "    }\n",
       "\n",
       "    .dataframe tbody tr th {\n",
       "        vertical-align: top;\n",
       "    }\n",
       "\n",
       "    .dataframe thead th {\n",
       "        text-align: right;\n",
       "    }\n",
       "</style>\n",
       "<table border=\"1\" class=\"dataframe\">\n",
       "  <thead>\n",
       "    <tr style=\"text-align: right;\">\n",
       "      <th></th>\n",
       "      <th>customerID</th>\n",
       "      <th>gender</th>\n",
       "      <th>SeniorCitizen</th>\n",
       "      <th>Partner</th>\n",
       "      <th>Dependents</th>\n",
       "      <th>tenure</th>\n",
       "      <th>PhoneService</th>\n",
       "      <th>MultipleLines</th>\n",
       "      <th>InternetService</th>\n",
       "      <th>OnlineSecurity</th>\n",
       "      <th>...</th>\n",
       "      <th>DeviceProtection</th>\n",
       "      <th>TechSupport</th>\n",
       "      <th>StreamingTV</th>\n",
       "      <th>StreamingMovies</th>\n",
       "      <th>Contract</th>\n",
       "      <th>PaperlessBilling</th>\n",
       "      <th>PaymentMethod</th>\n",
       "      <th>MonthlyCharges</th>\n",
       "      <th>TotalCharges</th>\n",
       "      <th>Churn</th>\n",
       "    </tr>\n",
       "  </thead>\n",
       "  <tbody>\n",
       "    <tr>\n",
       "      <th>0</th>\n",
       "      <td>7590-VHVEG</td>\n",
       "      <td>Female</td>\n",
       "      <td>0</td>\n",
       "      <td>Yes</td>\n",
       "      <td>No</td>\n",
       "      <td>1</td>\n",
       "      <td>No</td>\n",
       "      <td>No phone service</td>\n",
       "      <td>DSL</td>\n",
       "      <td>No</td>\n",
       "      <td>...</td>\n",
       "      <td>No</td>\n",
       "      <td>No</td>\n",
       "      <td>No</td>\n",
       "      <td>No</td>\n",
       "      <td>Month-to-month</td>\n",
       "      <td>Yes</td>\n",
       "      <td>Electronic check</td>\n",
       "      <td>29.85</td>\n",
       "      <td>29.85</td>\n",
       "      <td>No</td>\n",
       "    </tr>\n",
       "    <tr>\n",
       "      <th>1</th>\n",
       "      <td>5575-GNVDE</td>\n",
       "      <td>Male</td>\n",
       "      <td>0</td>\n",
       "      <td>No</td>\n",
       "      <td>No</td>\n",
       "      <td>34</td>\n",
       "      <td>Yes</td>\n",
       "      <td>No</td>\n",
       "      <td>DSL</td>\n",
       "      <td>Yes</td>\n",
       "      <td>...</td>\n",
       "      <td>Yes</td>\n",
       "      <td>No</td>\n",
       "      <td>No</td>\n",
       "      <td>No</td>\n",
       "      <td>One year</td>\n",
       "      <td>No</td>\n",
       "      <td>Mailed check</td>\n",
       "      <td>56.95</td>\n",
       "      <td>1889.5</td>\n",
       "      <td>No</td>\n",
       "    </tr>\n",
       "    <tr>\n",
       "      <th>2</th>\n",
       "      <td>3668-QPYBK</td>\n",
       "      <td>Male</td>\n",
       "      <td>0</td>\n",
       "      <td>No</td>\n",
       "      <td>No</td>\n",
       "      <td>2</td>\n",
       "      <td>Yes</td>\n",
       "      <td>No</td>\n",
       "      <td>DSL</td>\n",
       "      <td>Yes</td>\n",
       "      <td>...</td>\n",
       "      <td>No</td>\n",
       "      <td>No</td>\n",
       "      <td>No</td>\n",
       "      <td>No</td>\n",
       "      <td>Month-to-month</td>\n",
       "      <td>Yes</td>\n",
       "      <td>Mailed check</td>\n",
       "      <td>53.85</td>\n",
       "      <td>108.15</td>\n",
       "      <td>Yes</td>\n",
       "    </tr>\n",
       "    <tr>\n",
       "      <th>3</th>\n",
       "      <td>7795-CFOCW</td>\n",
       "      <td>Male</td>\n",
       "      <td>0</td>\n",
       "      <td>No</td>\n",
       "      <td>No</td>\n",
       "      <td>45</td>\n",
       "      <td>No</td>\n",
       "      <td>No phone service</td>\n",
       "      <td>DSL</td>\n",
       "      <td>Yes</td>\n",
       "      <td>...</td>\n",
       "      <td>Yes</td>\n",
       "      <td>Yes</td>\n",
       "      <td>No</td>\n",
       "      <td>No</td>\n",
       "      <td>One year</td>\n",
       "      <td>No</td>\n",
       "      <td>Bank transfer (automatic)</td>\n",
       "      <td>42.30</td>\n",
       "      <td>1840.75</td>\n",
       "      <td>No</td>\n",
       "    </tr>\n",
       "    <tr>\n",
       "      <th>4</th>\n",
       "      <td>9237-HQITU</td>\n",
       "      <td>Female</td>\n",
       "      <td>0</td>\n",
       "      <td>No</td>\n",
       "      <td>No</td>\n",
       "      <td>2</td>\n",
       "      <td>Yes</td>\n",
       "      <td>No</td>\n",
       "      <td>Fiber optic</td>\n",
       "      <td>No</td>\n",
       "      <td>...</td>\n",
       "      <td>No</td>\n",
       "      <td>No</td>\n",
       "      <td>No</td>\n",
       "      <td>No</td>\n",
       "      <td>Month-to-month</td>\n",
       "      <td>Yes</td>\n",
       "      <td>Electronic check</td>\n",
       "      <td>70.70</td>\n",
       "      <td>151.65</td>\n",
       "      <td>Yes</td>\n",
       "    </tr>\n",
       "  </tbody>\n",
       "</table>\n",
       "<p>5 rows × 21 columns</p>\n",
       "</div>"
      ],
      "text/plain": [
       "   customerID  gender  SeniorCitizen Partner Dependents  tenure PhoneService  \\\n",
       "0  7590-VHVEG  Female              0     Yes         No       1           No   \n",
       "1  5575-GNVDE    Male              0      No         No      34          Yes   \n",
       "2  3668-QPYBK    Male              0      No         No       2          Yes   \n",
       "3  7795-CFOCW    Male              0      No         No      45           No   \n",
       "4  9237-HQITU  Female              0      No         No       2          Yes   \n",
       "\n",
       "      MultipleLines InternetService OnlineSecurity  ... DeviceProtection  \\\n",
       "0  No phone service             DSL             No  ...               No   \n",
       "1                No             DSL            Yes  ...              Yes   \n",
       "2                No             DSL            Yes  ...               No   \n",
       "3  No phone service             DSL            Yes  ...              Yes   \n",
       "4                No     Fiber optic             No  ...               No   \n",
       "\n",
       "  TechSupport StreamingTV StreamingMovies        Contract PaperlessBilling  \\\n",
       "0          No          No              No  Month-to-month              Yes   \n",
       "1          No          No              No        One year               No   \n",
       "2          No          No              No  Month-to-month              Yes   \n",
       "3         Yes          No              No        One year               No   \n",
       "4          No          No              No  Month-to-month              Yes   \n",
       "\n",
       "               PaymentMethod MonthlyCharges  TotalCharges Churn  \n",
       "0           Electronic check          29.85         29.85    No  \n",
       "1               Mailed check          56.95        1889.5    No  \n",
       "2               Mailed check          53.85        108.15   Yes  \n",
       "3  Bank transfer (automatic)          42.30       1840.75    No  \n",
       "4           Electronic check          70.70        151.65   Yes  \n",
       "\n",
       "[5 rows x 21 columns]"
      ]
     },
     "execution_count": 3,
     "metadata": {},
     "output_type": "execute_result"
    }
   ],
   "source": [
    "df.head()"
   ]
  },
  {
   "cell_type": "code",
   "execution_count": 4,
   "metadata": {
    "colab": {
     "base_uri": "https://localhost:8080/"
    },
    "id": "7JN9rVvPz5kg",
    "outputId": "26e3c187-1a27-499c-f3b4-1d4d1ded3656"
   },
   "outputs": [
    {
     "name": "stdout",
     "output_type": "stream",
     "text": [
      "<class 'pandas.core.frame.DataFrame'>\n",
      "RangeIndex: 7043 entries, 0 to 7042\n",
      "Data columns (total 21 columns):\n",
      " #   Column            Non-Null Count  Dtype  \n",
      "---  ------            --------------  -----  \n",
      " 0   customerID        7043 non-null   object \n",
      " 1   gender            7043 non-null   object \n",
      " 2   SeniorCitizen     7043 non-null   int64  \n",
      " 3   Partner           7043 non-null   object \n",
      " 4   Dependents        7043 non-null   object \n",
      " 5   tenure            7043 non-null   int64  \n",
      " 6   PhoneService      7043 non-null   object \n",
      " 7   MultipleLines     7043 non-null   object \n",
      " 8   InternetService   7043 non-null   object \n",
      " 9   OnlineSecurity    7043 non-null   object \n",
      " 10  OnlineBackup      7043 non-null   object \n",
      " 11  DeviceProtection  7043 non-null   object \n",
      " 12  TechSupport       7043 non-null   object \n",
      " 13  StreamingTV       7043 non-null   object \n",
      " 14  StreamingMovies   7043 non-null   object \n",
      " 15  Contract          7043 non-null   object \n",
      " 16  PaperlessBilling  7043 non-null   object \n",
      " 17  PaymentMethod     7043 non-null   object \n",
      " 18  MonthlyCharges    7043 non-null   float64\n",
      " 19  TotalCharges      7043 non-null   object \n",
      " 20  Churn             7043 non-null   object \n",
      "dtypes: float64(1), int64(2), object(18)\n",
      "memory usage: 1.1+ MB\n"
     ]
    }
   ],
   "source": [
    "df.info()"
   ]
  },
  {
   "cell_type": "markdown",
   "metadata": {
    "id": "PQ6DdQlWz8Ht"
   },
   "source": [
    "**Data has 20 features and 1 target value.**"
   ]
  },
  {
   "cell_type": "code",
   "execution_count": 5,
   "metadata": {
    "colab": {
     "base_uri": "https://localhost:8080/"
    },
    "id": "K6Q9IVe_0B2G",
    "outputId": "96ad1789-a32e-41ee-a44d-6a2603e077c8"
   },
   "outputs": [
    {
     "data": {
      "text/plain": [
       "customerID          0\n",
       "gender              0\n",
       "SeniorCitizen       0\n",
       "Partner             0\n",
       "Dependents          0\n",
       "tenure              0\n",
       "PhoneService        0\n",
       "MultipleLines       0\n",
       "InternetService     0\n",
       "OnlineSecurity      0\n",
       "OnlineBackup        0\n",
       "DeviceProtection    0\n",
       "TechSupport         0\n",
       "StreamingTV         0\n",
       "StreamingMovies     0\n",
       "Contract            0\n",
       "PaperlessBilling    0\n",
       "PaymentMethod       0\n",
       "MonthlyCharges      0\n",
       "TotalCharges        0\n",
       "Churn               0\n",
       "dtype: int64"
      ]
     },
     "execution_count": 5,
     "metadata": {},
     "output_type": "execute_result"
    }
   ],
   "source": [
    "df.isnull().sum()"
   ]
  },
  {
   "cell_type": "markdown",
   "metadata": {
    "id": "C1TBH7UP0EO2"
   },
   "source": [
    "**There are no null values in data.**"
   ]
  },
  {
   "cell_type": "code",
   "execution_count": 6,
   "metadata": {
    "colab": {
     "base_uri": "https://localhost:8080/"
    },
    "id": "NfpBbjQs0JyS",
    "outputId": "b64cd69a-1507-4b32-f536-faf0c8810930"
   },
   "outputs": [
    {
     "data": {
      "text/plain": [
       "0"
      ]
     },
     "execution_count": 6,
     "metadata": {},
     "output_type": "execute_result"
    }
   ],
   "source": [
    "df.duplicated().sum()"
   ]
  },
  {
   "cell_type": "markdown",
   "metadata": {
    "id": "Ai1dSbxK0LfR"
   },
   "source": [
    "**No duplicate values found.**"
   ]
  },
  {
   "cell_type": "markdown",
   "metadata": {
    "id": "dqmASu3i0PQz"
   },
   "source": [
    "## Exploring the data"
   ]
  },
  {
   "cell_type": "markdown",
   "metadata": {
    "id": "A7ikf5hz0Ss-"
   },
   "source": [
    "1. CustomerID\n",
    "2. Gender\n",
    "3. Senior Citizen\n",
    "4. Partner\n",
    "5. Dependents\n",
    "6. Tenure\n",
    "7. Phone Service\n",
    "8. Multiple Lines\n",
    "9. Internet Services\n",
    "10. Online Security\n",
    "11. Online Backup\n",
    "12. Device Protection\n",
    "13. Tech Support\n",
    "14. Streaming TV\n",
    "15. Streaming MOVIES\n",
    "16. Contract\n",
    "17. Paperless Biling\n",
    "18. Payment Method\n",
    "19. Monthly Charges\n",
    "20. Total Charges"
   ]
  },
  {
   "cell_type": "code",
   "execution_count": 7,
   "metadata": {
    "colab": {
     "base_uri": "https://localhost:8080/"
    },
    "id": "KbGwK-qa0Vkd",
    "outputId": "cc3a5741-35ca-4f26-ad6e-341207644b69"
   },
   "outputs": [
    {
     "data": {
      "text/plain": [
       "(7043, 21)"
      ]
     },
     "execution_count": 7,
     "metadata": {},
     "output_type": "execute_result"
    }
   ],
   "source": [
    "df.shape"
   ]
  },
  {
   "cell_type": "code",
   "execution_count": 8,
   "metadata": {
    "colab": {
     "base_uri": "https://localhost:8080/"
    },
    "id": "nFNNfj3q0XuI",
    "outputId": "73e57308-3f4b-4566-ffba-4a445e8a8dfa"
   },
   "outputs": [
    {
     "data": {
      "text/plain": [
       "array(['customerID', 'gender', 'SeniorCitizen', 'Partner', 'Dependents',\n",
       "       'tenure', 'PhoneService', 'MultipleLines', 'InternetService',\n",
       "       'OnlineSecurity', 'OnlineBackup', 'DeviceProtection',\n",
       "       'TechSupport', 'StreamingTV', 'StreamingMovies', 'Contract',\n",
       "       'PaperlessBilling', 'PaymentMethod', 'MonthlyCharges',\n",
       "       'TotalCharges', 'Churn'], dtype=object)"
      ]
     },
     "execution_count": 8,
     "metadata": {},
     "output_type": "execute_result"
    }
   ],
   "source": [
    "df.columns.values"
   ]
  },
  {
   "cell_type": "code",
   "execution_count": 9,
   "metadata": {
    "colab": {
     "base_uri": "https://localhost:8080/"
    },
    "id": "c2txXUuF0azB",
    "outputId": "846ab0ff-1d36-42c5-99e4-89e2df2f0396"
   },
   "outputs": [
    {
     "data": {
      "text/plain": [
       "customerID           object\n",
       "gender               object\n",
       "SeniorCitizen         int64\n",
       "Partner              object\n",
       "Dependents           object\n",
       "tenure                int64\n",
       "PhoneService         object\n",
       "MultipleLines        object\n",
       "InternetService      object\n",
       "OnlineSecurity       object\n",
       "OnlineBackup         object\n",
       "DeviceProtection     object\n",
       "TechSupport          object\n",
       "StreamingTV          object\n",
       "StreamingMovies      object\n",
       "Contract             object\n",
       "PaperlessBilling     object\n",
       "PaymentMethod        object\n",
       "MonthlyCharges      float64\n",
       "TotalCharges         object\n",
       "Churn                object\n",
       "dtype: object"
      ]
     },
     "execution_count": 9,
     "metadata": {},
     "output_type": "execute_result"
    }
   ],
   "source": [
    "df.dtypes"
   ]
  },
  {
   "cell_type": "code",
   "execution_count": 10,
   "metadata": {
    "colab": {
     "base_uri": "https://localhost:8080/",
     "height": 300
    },
    "id": "QtQU1ygT0dcf",
    "outputId": "6d7e7ec2-479e-4758-9309-b531ad6a3687"
   },
   "outputs": [
    {
     "data": {
      "text/html": [
       "<div>\n",
       "<style scoped>\n",
       "    .dataframe tbody tr th:only-of-type {\n",
       "        vertical-align: middle;\n",
       "    }\n",
       "\n",
       "    .dataframe tbody tr th {\n",
       "        vertical-align: top;\n",
       "    }\n",
       "\n",
       "    .dataframe thead th {\n",
       "        text-align: right;\n",
       "    }\n",
       "</style>\n",
       "<table border=\"1\" class=\"dataframe\">\n",
       "  <thead>\n",
       "    <tr style=\"text-align: right;\">\n",
       "      <th></th>\n",
       "      <th>SeniorCitizen</th>\n",
       "      <th>tenure</th>\n",
       "      <th>MonthlyCharges</th>\n",
       "    </tr>\n",
       "  </thead>\n",
       "  <tbody>\n",
       "    <tr>\n",
       "      <th>count</th>\n",
       "      <td>7043.000000</td>\n",
       "      <td>7043.000000</td>\n",
       "      <td>7043.000000</td>\n",
       "    </tr>\n",
       "    <tr>\n",
       "      <th>mean</th>\n",
       "      <td>0.162147</td>\n",
       "      <td>32.371149</td>\n",
       "      <td>64.761692</td>\n",
       "    </tr>\n",
       "    <tr>\n",
       "      <th>std</th>\n",
       "      <td>0.368612</td>\n",
       "      <td>24.559481</td>\n",
       "      <td>30.090047</td>\n",
       "    </tr>\n",
       "    <tr>\n",
       "      <th>min</th>\n",
       "      <td>0.000000</td>\n",
       "      <td>0.000000</td>\n",
       "      <td>18.250000</td>\n",
       "    </tr>\n",
       "    <tr>\n",
       "      <th>25%</th>\n",
       "      <td>0.000000</td>\n",
       "      <td>9.000000</td>\n",
       "      <td>35.500000</td>\n",
       "    </tr>\n",
       "    <tr>\n",
       "      <th>50%</th>\n",
       "      <td>0.000000</td>\n",
       "      <td>29.000000</td>\n",
       "      <td>70.350000</td>\n",
       "    </tr>\n",
       "    <tr>\n",
       "      <th>75%</th>\n",
       "      <td>0.000000</td>\n",
       "      <td>55.000000</td>\n",
       "      <td>89.850000</td>\n",
       "    </tr>\n",
       "    <tr>\n",
       "      <th>max</th>\n",
       "      <td>1.000000</td>\n",
       "      <td>72.000000</td>\n",
       "      <td>118.750000</td>\n",
       "    </tr>\n",
       "  </tbody>\n",
       "</table>\n",
       "</div>"
      ],
      "text/plain": [
       "       SeniorCitizen       tenure  MonthlyCharges\n",
       "count    7043.000000  7043.000000     7043.000000\n",
       "mean        0.162147    32.371149       64.761692\n",
       "std         0.368612    24.559481       30.090047\n",
       "min         0.000000     0.000000       18.250000\n",
       "25%         0.000000     9.000000       35.500000\n",
       "50%         0.000000    29.000000       70.350000\n",
       "75%         0.000000    55.000000       89.850000\n",
       "max         1.000000    72.000000      118.750000"
      ]
     },
     "execution_count": 10,
     "metadata": {},
     "output_type": "execute_result"
    }
   ],
   "source": [
    "df.describe()"
   ]
  },
  {
   "cell_type": "markdown",
   "metadata": {
    "id": "JZ625ja0-NFx"
   },
   "source": [
    "* SeniorCitizen is actually a categorical hence the 25%-50%-75% distribution is not propoer\n",
    "\n",
    "* 75% customers have tenure less than 55 months\n",
    "\n",
    "* Average Monthly charges are USD 64.76 whereas 75% customers pay more than USD 89.85 per month"
   ]
  },
  {
   "cell_type": "code",
   "execution_count": 11,
   "metadata": {
    "colab": {
     "base_uri": "https://localhost:8080/"
    },
    "id": "Ua4fJYEH0ffr",
    "outputId": "45a14630-2a63-4756-fea9-cd4f3b276f85"
   },
   "outputs": [
    {
     "data": {
      "text/plain": [
       "Churn\n",
       "No     5174\n",
       "Yes    1869\n",
       "Name: count, dtype: int64"
      ]
     },
     "execution_count": 11,
     "metadata": {},
     "output_type": "execute_result"
    }
   ],
   "source": [
    "df['Churn'].value_counts()"
   ]
  },
  {
   "cell_type": "code",
   "execution_count": 12,
   "metadata": {
    "colab": {
     "base_uri": "https://localhost:8080/"
    },
    "id": "EJ8yqrGh0jrH",
    "outputId": "657e6d6e-9d37-4088-b462-e2d42103a624"
   },
   "outputs": [
    {
     "data": {
      "text/plain": [
       "Churn\n",
       "No     73.463013\n",
       "Yes    26.536987\n",
       "Name: count, dtype: float64"
      ]
     },
     "execution_count": 12,
     "metadata": {},
     "output_type": "execute_result"
    }
   ],
   "source": [
    "100 * df['Churn'].value_counts() / len(df['Churn'])"
   ]
  },
  {
   "cell_type": "code",
   "execution_count": 13,
   "metadata": {
    "colab": {
     "base_uri": "https://localhost:8080/",
     "height": 587
    },
    "id": "RJrjf3pj-qtj",
    "outputId": "4a1495b9-bed1-45c7-cdb7-e039a77ad8bf"
   },
   "outputs": [
    {
     "data": {
      "image/png": "[encoded data removed]",
      "text/plain": [
       "<Figure size 800x600 with 1 Axes>"
      ]
     },
     "metadata": {},
     "output_type": "display_data"
    }
   ],
   "source": [
    "#IDENTIIFYING CHURNERS RATIO\n",
    "df['Churn'].value_counts().plot(kind='barh', figsize=(8, 6), color=['green', 'red'])\n",
    "plt.xlabel(\"Count\", labelpad=14)\n",
    "plt.ylabel(\"Churn\", labelpad=14)\n",
    "plt.title(\"Count of Churn per category\", y=1.02);"
   ]
  },
  {
   "cell_type": "markdown",
   "metadata": {
    "id": "UXNVcMCJ_SdA"
   },
   "source": [
    "**Data is Highly imbalanced, ratio = 73:24.**\n",
    "\n",
    "So we analyse the data with other features while taking the target values separately to get some insights."
   ]
  },
  {
   "cell_type": "markdown",
   "metadata": {
    "id": "YWdsUQTF0p-r"
   },
   "source": [
    "## DATA CLEANING"
   ]
  },
  {
   "cell_type": "markdown",
   "metadata": {
    "id": "q9wdOiyz_baH"
   },
   "source": [
    "*Create a copy of base data for manupulation & processing*"
   ]
  },
  {
   "cell_type": "code",
   "execution_count": 14,
   "metadata": {
    "colab": {
     "base_uri": "https://localhost:8080/",
     "height": 342
    },
    "id": "lkP1QB1J_h6n",
    "outputId": "7ad56ccc-bcdd-46d7-9425-7ea94e561c40"
   },
   "outputs": [
    {
     "data": {
      "text/html": [
       "<div>\n",
       "<style scoped>\n",
       "    .dataframe tbody tr th:only-of-type {\n",
       "        vertical-align: middle;\n",
       "    }\n",
       "\n",
       "    .dataframe tbody tr th {\n",
       "        vertical-align: top;\n",
       "    }\n",
       "\n",
       "    .dataframe thead th {\n",
       "        text-align: right;\n",
       "    }\n",
       "</style>\n",
       "<table border=\"1\" class=\"dataframe\">\n",
       "  <thead>\n",
       "    <tr style=\"text-align: right;\">\n",
       "      <th></th>\n",
       "      <th>customerID</th>\n",
       "      <th>gender</th>\n",
       "      <th>SeniorCitizen</th>\n",
       "      <th>Partner</th>\n",
       "      <th>Dependents</th>\n",
       "      <th>tenure</th>\n",
       "      <th>PhoneService</th>\n",
       "      <th>MultipleLines</th>\n",
       "      <th>InternetService</th>\n",
       "      <th>OnlineSecurity</th>\n",
       "      <th>...</th>\n",
       "      <th>DeviceProtection</th>\n",
       "      <th>TechSupport</th>\n",
       "      <th>StreamingTV</th>\n",
       "      <th>StreamingMovies</th>\n",
       "      <th>Contract</th>\n",
       "      <th>PaperlessBilling</th>\n",
       "      <th>PaymentMethod</th>\n",
       "      <th>MonthlyCharges</th>\n",
       "      <th>TotalCharges</th>\n",
       "      <th>Churn</th>\n",
       "    </tr>\n",
       "  </thead>\n",
       "  <tbody>\n",
       "    <tr>\n",
       "      <th>0</th>\n",
       "      <td>7590-VHVEG</td>\n",
       "      <td>Female</td>\n",
       "      <td>0</td>\n",
       "      <td>Yes</td>\n",
       "      <td>No</td>\n",
       "      <td>1</td>\n",
       "      <td>No</td>\n",
       "      <td>No phone service</td>\n",
       "      <td>DSL</td>\n",
       "      <td>No</td>\n",
       "      <td>...</td>\n",
       "      <td>No</td>\n",
       "      <td>No</td>\n",
       "      <td>No</td>\n",
       "      <td>No</td>\n",
       "      <td>Month-to-month</td>\n",
       "      <td>Yes</td>\n",
       "      <td>Electronic check</td>\n",
       "      <td>29.85</td>\n",
       "      <td>29.85</td>\n",
       "      <td>No</td>\n",
       "    </tr>\n",
       "    <tr>\n",
       "      <th>1</th>\n",
       "      <td>5575-GNVDE</td>\n",
       "      <td>Male</td>\n",
       "      <td>0</td>\n",
       "      <td>No</td>\n",
       "      <td>No</td>\n",
       "      <td>34</td>\n",
       "      <td>Yes</td>\n",
       "      <td>No</td>\n",
       "      <td>DSL</td>\n",
       "      <td>Yes</td>\n",
       "      <td>...</td>\n",
       "      <td>Yes</td>\n",
       "      <td>No</td>\n",
       "      <td>No</td>\n",
       "      <td>No</td>\n",
       "      <td>One year</td>\n",
       "      <td>No</td>\n",
       "      <td>Mailed check</td>\n",
       "      <td>56.95</td>\n",
       "      <td>1889.5</td>\n",
       "      <td>No</td>\n",
       "    </tr>\n",
       "    <tr>\n",
       "      <th>2</th>\n",
       "      <td>3668-QPYBK</td>\n",
       "      <td>Male</td>\n",
       "      <td>0</td>\n",
       "      <td>No</td>\n",
       "      <td>No</td>\n",
       "      <td>2</td>\n",
       "      <td>Yes</td>\n",
       "      <td>No</td>\n",
       "      <td>DSL</td>\n",
       "      <td>Yes</td>\n",
       "      <td>...</td>\n",
       "      <td>No</td>\n",
       "      <td>No</td>\n",
       "      <td>No</td>\n",
       "      <td>No</td>\n",
       "      <td>Month-to-month</td>\n",
       "      <td>Yes</td>\n",
       "      <td>Mailed check</td>\n",
       "      <td>53.85</td>\n",
       "      <td>108.15</td>\n",
       "      <td>Yes</td>\n",
       "    </tr>\n",
       "    <tr>\n",
       "      <th>3</th>\n",
       "      <td>7795-CFOCW</td>\n",
       "      <td>Male</td>\n",
       "      <td>0</td>\n",
       "      <td>No</td>\n",
       "      <td>No</td>\n",
       "      <td>45</td>\n",
       "      <td>No</td>\n",
       "      <td>No phone service</td>\n",
       "      <td>DSL</td>\n",
       "      <td>Yes</td>\n",
       "      <td>...</td>\n",
       "      <td>Yes</td>\n",
       "      <td>Yes</td>\n",
       "      <td>No</td>\n",
       "      <td>No</td>\n",
       "      <td>One year</td>\n",
       "      <td>No</td>\n",
       "      <td>Bank transfer (automatic)</td>\n",
       "      <td>42.30</td>\n",
       "      <td>1840.75</td>\n",
       "      <td>No</td>\n",
       "    </tr>\n",
       "    <tr>\n",
       "      <th>4</th>\n",
       "      <td>9237-HQITU</td>\n",
       "      <td>Female</td>\n",
       "      <td>0</td>\n",
       "      <td>No</td>\n",
       "      <td>No</td>\n",
       "      <td>2</td>\n",
       "      <td>Yes</td>\n",
       "      <td>No</td>\n",
       "      <td>Fiber optic</td>\n",
       "      <td>No</td>\n",
       "      <td>...</td>\n",
       "      <td>No</td>\n",
       "      <td>No</td>\n",
       "      <td>No</td>\n",
       "      <td>No</td>\n",
       "      <td>Month-to-month</td>\n",
       "      <td>Yes</td>\n",
       "      <td>Electronic check</td>\n",
       "      <td>70.70</td>\n",
       "      <td>151.65</td>\n",
       "      <td>Yes</td>\n",
       "    </tr>\n",
       "  </tbody>\n",
       "</table>\n",
       "<p>5 rows × 21 columns</p>\n",
       "</div>"
      ],
      "text/plain": [
       "   customerID  gender  SeniorCitizen Partner Dependents  tenure PhoneService  \\\n",
       "0  7590-VHVEG  Female              0     Yes         No       1           No   \n",
       "1  5575-GNVDE    Male              0      No         No      34          Yes   \n",
       "2  3668-QPYBK    Male              0      No         No       2          Yes   \n",
       "3  7795-CFOCW    Male              0      No         No      45           No   \n",
       "4  9237-HQITU  Female              0      No         No       2          Yes   \n",
       "\n",
       "      MultipleLines InternetService OnlineSecurity  ... DeviceProtection  \\\n",
       "0  No phone service             DSL             No  ...               No   \n",
       "1                No             DSL            Yes  ...              Yes   \n",
       "2                No             DSL            Yes  ...               No   \n",
       "3  No phone service             DSL            Yes  ...              Yes   \n",
       "4                No     Fiber optic             No  ...               No   \n",
       "\n",
       "  TechSupport StreamingTV StreamingMovies        Contract PaperlessBilling  \\\n",
       "0          No          No              No  Month-to-month              Yes   \n",
       "1          No          No              No        One year               No   \n",
       "2          No          No              No  Month-to-month              Yes   \n",
       "3         Yes          No              No        One year               No   \n",
       "4          No          No              No  Month-to-month              Yes   \n",
       "\n",
       "               PaymentMethod MonthlyCharges  TotalCharges Churn  \n",
       "0           Electronic check          29.85         29.85    No  \n",
       "1               Mailed check          56.95        1889.5    No  \n",
       "2               Mailed check          53.85        108.15   Yes  \n",
       "3  Bank transfer (automatic)          42.30       1840.75    No  \n",
       "4           Electronic check          70.70        151.65   Yes  \n",
       "\n",
       "[5 rows x 21 columns]"
      ]
     },
     "execution_count": 14,
     "metadata": {},
     "output_type": "execute_result"
    }
   ],
   "source": [
    "df1 = df.copy()\n",
    "df1.head()"
   ]
  },
  {
   "cell_type": "markdown",
   "metadata": {
    "id": "DM0fVU2u09U7"
   },
   "source": [
    "Total Charges should be numeric amount. Converting data type of TotalCharges to float"
   ]
  },
  {
   "cell_type": "code",
   "execution_count": 15,
   "metadata": {
    "colab": {
     "base_uri": "https://localhost:8080/"
    },
    "id": "z6k3F6TF08mI",
    "outputId": "fe7e9cc2-0c1f-4204-e10a-9528a7b389cb"
   },
   "outputs": [
    {
     "data": {
      "text/plain": [
       "customerID           0\n",
       "gender               0\n",
       "SeniorCitizen        0\n",
       "Partner              0\n",
       "Dependents           0\n",
       "tenure               0\n",
       "PhoneService         0\n",
       "MultipleLines        0\n",
       "InternetService      0\n",
       "OnlineSecurity       0\n",
       "OnlineBackup         0\n",
       "DeviceProtection     0\n",
       "TechSupport          0\n",
       "StreamingTV          0\n",
       "StreamingMovies      0\n",
       "Contract             0\n",
       "PaperlessBilling     0\n",
       "PaymentMethod        0\n",
       "MonthlyCharges       0\n",
       "TotalCharges        11\n",
       "Churn                0\n",
       "dtype: int64"
      ]
     },
     "execution_count": 15,
     "metadata": {},
     "output_type": "execute_result"
    }
   ],
   "source": [
    "df1.TotalCharges = pd.to_numeric(df1.TotalCharges, errors='coerce')\n",
    "df1.isnull().sum()"
   ]
  },
  {
   "cell_type": "markdown",
   "metadata": {
    "id": "FUPBLmwRAI-5"
   },
   "source": [
    " As we can see there are 11 missing values in TotalCharges column. Let's check these records:"
   ]
  },
  {
   "cell_type": "code",
   "execution_count": 16,
   "metadata": {
    "colab": {
     "base_uri": "https://localhost:8080/",
     "height": 634
    },
    "id": "AMvr7E801Q-J",
    "outputId": "950a7f66-0d2b-4c1c-ef35-c9829e7276e9"
   },
   "outputs": [
    {
     "data": {
      "text/html": [
       "<div>\n",
       "<style scoped>\n",
       "    .dataframe tbody tr th:only-of-type {\n",
       "        vertical-align: middle;\n",
       "    }\n",
       "\n",
       "    .dataframe tbody tr th {\n",
       "        vertical-align: top;\n",
       "    }\n",
       "\n",
       "    .dataframe thead th {\n",
       "        text-align: right;\n",
       "    }\n",
       "</style>\n",
       "<table border=\"1\" class=\"dataframe\">\n",
       "  <thead>\n",
       "    <tr style=\"text-align: right;\">\n",
       "      <th></th>\n",
       "      <th>customerID</th>\n",
       "      <th>gender</th>\n",
       "      <th>SeniorCitizen</th>\n",
       "      <th>Partner</th>\n",
       "      <th>Dependents</th>\n",
       "      <th>tenure</th>\n",
       "      <th>PhoneService</th>\n",
       "      <th>MultipleLines</th>\n",
       "      <th>InternetService</th>\n",
       "      <th>OnlineSecurity</th>\n",
       "      <th>...</th>\n",
       "      <th>DeviceProtection</th>\n",
       "      <th>TechSupport</th>\n",
       "      <th>StreamingTV</th>\n",
       "      <th>StreamingMovies</th>\n",
       "      <th>Contract</th>\n",
       "      <th>PaperlessBilling</th>\n",
       "      <th>PaymentMethod</th>\n",
       "      <th>MonthlyCharges</th>\n",
       "      <th>TotalCharges</th>\n",
       "      <th>Churn</th>\n",
       "    </tr>\n",
       "  </thead>\n",
       "  <tbody>\n",
       "    <tr>\n",
       "      <th>488</th>\n",
       "      <td>4472-LVYGI</td>\n",
       "      <td>Female</td>\n",
       "      <td>0</td>\n",
       "      <td>Yes</td>\n",
       "      <td>Yes</td>\n",
       "      <td>0</td>\n",
       "      <td>No</td>\n",
       "      <td>No phone service</td>\n",
       "      <td>DSL</td>\n",
       "      <td>Yes</td>\n",
       "      <td>...</td>\n",
       "      <td>Yes</td>\n",
       "      <td>Yes</td>\n",
       "      <td>Yes</td>\n",
       "      <td>No</td>\n",
       "      <td>Two year</td>\n",
       "      <td>Yes</td>\n",
       "      <td>Bank transfer (automatic)</td>\n",
       "      <td>52.55</td>\n",
       "      <td>NaN</td>\n",
       "      <td>No</td>\n",
       "    </tr>\n",
       "    <tr>\n",
       "      <th>753</th>\n",
       "      <td>3115-CZMZD</td>\n",
       "      <td>Male</td>\n",
       "      <td>0</td>\n",
       "      <td>No</td>\n",
       "      <td>Yes</td>\n",
       "      <td>0</td>\n",
       "      <td>Yes</td>\n",
       "      <td>No</td>\n",
       "      <td>No</td>\n",
       "      <td>No internet service</td>\n",
       "      <td>...</td>\n",
       "      <td>No internet service</td>\n",
       "      <td>No internet service</td>\n",
       "      <td>No internet service</td>\n",
       "      <td>No internet service</td>\n",
       "      <td>Two year</td>\n",
       "      <td>No</td>\n",
       "      <td>Mailed check</td>\n",
       "      <td>20.25</td>\n",
       "      <td>NaN</td>\n",
       "      <td>No</td>\n",
       "    </tr>\n",
       "    <tr>\n",
       "      <th>936</th>\n",
       "      <td>5709-LVOEQ</td>\n",
       "      <td>Female</td>\n",
       "      <td>0</td>\n",
       "      <td>Yes</td>\n",
       "      <td>Yes</td>\n",
       "      <td>0</td>\n",
       "      <td>Yes</td>\n",
       "      <td>No</td>\n",
       "      <td>DSL</td>\n",
       "      <td>Yes</td>\n",
       "      <td>...</td>\n",
       "      <td>Yes</td>\n",
       "      <td>No</td>\n",
       "      <td>Yes</td>\n",
       "      <td>Yes</td>\n",
       "      <td>Two year</td>\n",
       "      <td>No</td>\n",
       "      <td>Mailed check</td>\n",
       "      <td>80.85</td>\n",
       "      <td>NaN</td>\n",
       "      <td>No</td>\n",
       "    </tr>\n",
       "    <tr>\n",
       "      <th>1082</th>\n",
       "      <td>4367-NUYAO</td>\n",
       "      <td>Male</td>\n",
       "      <td>0</td>\n",
       "      <td>Yes</td>\n",
       "      <td>Yes</td>\n",
       "      <td>0</td>\n",
       "      <td>Yes</td>\n",
       "      <td>Yes</td>\n",
       "      <td>No</td>\n",
       "      <td>No internet service</td>\n",
       "      <td>...</td>\n",
       "      <td>No internet service</td>\n",
       "      <td>No internet service</td>\n",
       "      <td>No internet service</td>\n",
       "      <td>No internet service</td>\n",
       "      <td>Two year</td>\n",
       "      <td>No</td>\n",
       "      <td>Mailed check</td>\n",
       "      <td>25.75</td>\n",
       "      <td>NaN</td>\n",
       "      <td>No</td>\n",
       "    </tr>\n",
       "    <tr>\n",
       "      <th>1340</th>\n",
       "      <td>1371-DWPAZ</td>\n",
       "      <td>Female</td>\n",
       "      <td>0</td>\n",
       "      <td>Yes</td>\n",
       "      <td>Yes</td>\n",
       "      <td>0</td>\n",
       "      <td>No</td>\n",
       "      <td>No phone service</td>\n",
       "      <td>DSL</td>\n",
       "      <td>Yes</td>\n",
       "      <td>...</td>\n",
       "      <td>Yes</td>\n",
       "      <td>Yes</td>\n",
       "      <td>Yes</td>\n",
       "      <td>No</td>\n",
       "      <td>Two year</td>\n",
       "      <td>No</td>\n",
       "      <td>Credit card (automatic)</td>\n",
       "      <td>56.05</td>\n",
       "      <td>NaN</td>\n",
       "      <td>No</td>\n",
       "    </tr>\n",
       "    <tr>\n",
       "      <th>3331</th>\n",
       "      <td>7644-OMVMY</td>\n",
       "      <td>Male</td>\n",
       "      <td>0</td>\n",
       "      <td>Yes</td>\n",
       "      <td>Yes</td>\n",
       "      <td>0</td>\n",
       "      <td>Yes</td>\n",
       "      <td>No</td>\n",
       "      <td>No</td>\n",
       "      <td>No internet service</td>\n",
       "      <td>...</td>\n",
       "      <td>No internet service</td>\n",
       "      <td>No internet service</td>\n",
       "      <td>No internet service</td>\n",
       "      <td>No internet service</td>\n",
       "      <td>Two year</td>\n",
       "      <td>No</td>\n",
       "      <td>Mailed check</td>\n",
       "      <td>19.85</td>\n",
       "      <td>NaN</td>\n",
       "      <td>No</td>\n",
       "    </tr>\n",
       "    <tr>\n",
       "      <th>3826</th>\n",
       "      <td>3213-VVOLG</td>\n",
       "      <td>Male</td>\n",
       "      <td>0</td>\n",
       "      <td>Yes</td>\n",
       "      <td>Yes</td>\n",
       "      <td>0</td>\n",
       "      <td>Yes</td>\n",
       "      <td>Yes</td>\n",
       "      <td>No</td>\n",
       "      <td>No internet service</td>\n",
       "      <td>...</td>\n",
       "      <td>No internet service</td>\n",
       "      <td>No internet service</td>\n",
       "      <td>No internet service</td>\n",
       "      <td>No internet service</td>\n",
       "      <td>Two year</td>\n",
       "      <td>No</td>\n",
       "      <td>Mailed check</td>\n",
       "      <td>25.35</td>\n",
       "      <td>NaN</td>\n",
       "      <td>No</td>\n",
       "    </tr>\n",
       "    <tr>\n",
       "      <th>4380</th>\n",
       "      <td>2520-SGTTA</td>\n",
       "      <td>Female</td>\n",
       "      <td>0</td>\n",
       "      <td>Yes</td>\n",
       "      <td>Yes</td>\n",
       "      <td>0</td>\n",
       "      <td>Yes</td>\n",
       "      <td>No</td>\n",
       "      <td>No</td>\n",
       "      <td>No internet service</td>\n",
       "      <td>...</td>\n",
       "      <td>No internet service</td>\n",
       "      <td>No internet service</td>\n",
       "      <td>No internet service</td>\n",
       "      <td>No internet service</td>\n",
       "      <td>Two year</td>\n",
       "      <td>No</td>\n",
       "      <td>Mailed check</td>\n",
       "      <td>20.00</td>\n",
       "      <td>NaN</td>\n",
       "      <td>No</td>\n",
       "    </tr>\n",
       "    <tr>\n",
       "      <th>5218</th>\n",
       "      <td>2923-ARZLG</td>\n",
       "      <td>Male</td>\n",
       "      <td>0</td>\n",
       "      <td>Yes</td>\n",
       "      <td>Yes</td>\n",
       "      <td>0</td>\n",
       "      <td>Yes</td>\n",
       "      <td>No</td>\n",
       "      <td>No</td>\n",
       "      <td>No internet service</td>\n",
       "      <td>...</td>\n",
       "      <td>No internet service</td>\n",
       "      <td>No internet service</td>\n",
       "      <td>No internet service</td>\n",
       "      <td>No internet service</td>\n",
       "      <td>One year</td>\n",
       "      <td>Yes</td>\n",
       "      <td>Mailed check</td>\n",
       "      <td>19.70</td>\n",
       "      <td>NaN</td>\n",
       "      <td>No</td>\n",
       "    </tr>\n",
       "    <tr>\n",
       "      <th>6670</th>\n",
       "      <td>4075-WKNIU</td>\n",
       "      <td>Female</td>\n",
       "      <td>0</td>\n",
       "      <td>Yes</td>\n",
       "      <td>Yes</td>\n",
       "      <td>0</td>\n",
       "      <td>Yes</td>\n",
       "      <td>Yes</td>\n",
       "      <td>DSL</td>\n",
       "      <td>No</td>\n",
       "      <td>...</td>\n",
       "      <td>Yes</td>\n",
       "      <td>Yes</td>\n",
       "      <td>Yes</td>\n",
       "      <td>No</td>\n",
       "      <td>Two year</td>\n",
       "      <td>No</td>\n",
       "      <td>Mailed check</td>\n",
       "      <td>73.35</td>\n",
       "      <td>NaN</td>\n",
       "      <td>No</td>\n",
       "    </tr>\n",
       "    <tr>\n",
       "      <th>6754</th>\n",
       "      <td>2775-SEFEE</td>\n",
       "      <td>Male</td>\n",
       "      <td>0</td>\n",
       "      <td>No</td>\n",
       "      <td>Yes</td>\n",
       "      <td>0</td>\n",
       "      <td>Yes</td>\n",
       "      <td>Yes</td>\n",
       "      <td>DSL</td>\n",
       "      <td>Yes</td>\n",
       "      <td>...</td>\n",
       "      <td>No</td>\n",
       "      <td>Yes</td>\n",
       "      <td>No</td>\n",
       "      <td>No</td>\n",
       "      <td>Two year</td>\n",
       "      <td>Yes</td>\n",
       "      <td>Bank transfer (automatic)</td>\n",
       "      <td>61.90</td>\n",
       "      <td>NaN</td>\n",
       "      <td>No</td>\n",
       "    </tr>\n",
       "  </tbody>\n",
       "</table>\n",
       "<p>11 rows × 21 columns</p>\n",
       "</div>"
      ],
      "text/plain": [
       "      customerID  gender  SeniorCitizen Partner Dependents  tenure  \\\n",
       "488   4472-LVYGI  Female              0     Yes        Yes       0   \n",
       "753   3115-CZMZD    Male              0      No        Yes       0   \n",
       "936   5709-LVOEQ  Female              0     Yes        Yes       0   \n",
       "1082  4367-NUYAO    Male              0     Yes        Yes       0   \n",
       "1340  1371-DWPAZ  Female              0     Yes        Yes       0   \n",
       "3331  7644-OMVMY    Male              0     Yes        Yes       0   \n",
       "3826  3213-VVOLG    Male              0     Yes        Yes       0   \n",
       "4380  2520-SGTTA  Female              0     Yes        Yes       0   \n",
       "5218  2923-ARZLG    Male              0     Yes        Yes       0   \n",
       "6670  4075-WKNIU  Female              0     Yes        Yes       0   \n",
       "6754  2775-SEFEE    Male              0      No        Yes       0   \n",
       "\n",
       "     PhoneService     MultipleLines InternetService       OnlineSecurity  ...  \\\n",
       "488            No  No phone service             DSL                  Yes  ...   \n",
       "753           Yes                No              No  No internet service  ...   \n",
       "936           Yes                No             DSL                  Yes  ...   \n",
       "1082          Yes               Yes              No  No internet service  ...   \n",
       "1340           No  No phone service             DSL                  Yes  ...   \n",
       "3331          Yes                No              No  No internet service  ...   \n",
       "3826          Yes               Yes              No  No internet service  ...   \n",
       "4380          Yes                No              No  No internet service  ...   \n",
       "5218          Yes                No              No  No internet service  ...   \n",
       "6670          Yes               Yes             DSL                   No  ...   \n",
       "6754          Yes               Yes             DSL                  Yes  ...   \n",
       "\n",
       "         DeviceProtection          TechSupport          StreamingTV  \\\n",
       "488                   Yes                  Yes                  Yes   \n",
       "753   No internet service  No internet service  No internet service   \n",
       "936                   Yes                   No                  Yes   \n",
       "1082  No internet service  No internet service  No internet service   \n",
       "1340                  Yes                  Yes                  Yes   \n",
       "3331  No internet service  No internet service  No internet service   \n",
       "3826  No internet service  No internet service  No internet service   \n",
       "4380  No internet service  No internet service  No internet service   \n",
       "5218  No internet service  No internet service  No internet service   \n",
       "6670                  Yes                  Yes                  Yes   \n",
       "6754                   No                  Yes                   No   \n",
       "\n",
       "          StreamingMovies  Contract PaperlessBilling  \\\n",
       "488                    No  Two year              Yes   \n",
       "753   No internet service  Two year               No   \n",
       "936                   Yes  Two year               No   \n",
       "1082  No internet service  Two year               No   \n",
       "1340                   No  Two year               No   \n",
       "3331  No internet service  Two year               No   \n",
       "3826  No internet service  Two year               No   \n",
       "4380  No internet service  Two year               No   \n",
       "5218  No internet service  One year              Yes   \n",
       "6670                   No  Two year               No   \n",
       "6754                   No  Two year              Yes   \n",
       "\n",
       "                  PaymentMethod MonthlyCharges  TotalCharges  Churn  \n",
       "488   Bank transfer (automatic)          52.55           NaN     No  \n",
       "753                Mailed check          20.25           NaN     No  \n",
       "936                Mailed check          80.85           NaN     No  \n",
       "1082               Mailed check          25.75           NaN     No  \n",
       "1340    Credit card (automatic)          56.05           NaN     No  \n",
       "3331               Mailed check          19.85           NaN     No  \n",
       "3826               Mailed check          25.35           NaN     No  \n",
       "4380               Mailed check          20.00           NaN     No  \n",
       "5218               Mailed check          19.70           NaN     No  \n",
       "6670               Mailed check          73.35           NaN     No  \n",
       "6754  Bank transfer (automatic)          61.90           NaN     No  \n",
       "\n",
       "[11 rows x 21 columns]"
      ]
     },
     "execution_count": 16,
     "metadata": {},
     "output_type": "execute_result"
    }
   ],
   "source": [
    "df1.loc[df1 ['TotalCharges'].isnull() == True]"
   ]
  },
  {
   "cell_type": "code",
   "execution_count": 17,
   "metadata": {
    "id": "IeUy3ql81W77"
   },
   "outputs": [],
   "source": [
    "#Removing missing values\n",
    "df1.dropna(how = 'any', inplace = True)"
   ]
  },
  {
   "cell_type": "code",
   "execution_count": 18,
   "metadata": {
    "colab": {
     "base_uri": "https://localhost:8080/"
    },
    "id": "SrhZf-tiAOR_",
    "outputId": "99fe323f-beb6-44f2-f2d4-809df3f892ac"
   },
   "outputs": [
    {
     "data": {
      "text/plain": [
       "customerID          0\n",
       "gender              0\n",
       "SeniorCitizen       0\n",
       "Partner             0\n",
       "Dependents          0\n",
       "tenure              0\n",
       "PhoneService        0\n",
       "MultipleLines       0\n",
       "InternetService     0\n",
       "OnlineSecurity      0\n",
       "OnlineBackup        0\n",
       "DeviceProtection    0\n",
       "TechSupport         0\n",
       "StreamingTV         0\n",
       "StreamingMovies     0\n",
       "Contract            0\n",
       "PaperlessBilling    0\n",
       "PaymentMethod       0\n",
       "MonthlyCharges      0\n",
       "TotalCharges        0\n",
       "Churn               0\n",
       "dtype: int64"
      ]
     },
     "execution_count": 18,
     "metadata": {},
     "output_type": "execute_result"
    }
   ],
   "source": [
    "df1.isnull().sum()"
   ]
  },
  {
   "cell_type": "markdown",
   "metadata": {
    "id": "Z_igJK8GATkf"
   },
   "source": [
    "Hence, null values removed."
   ]
  },
  {
   "cell_type": "markdown",
   "metadata": {
    "id": "iDcHBAp4AqwP"
   },
   "source": [
    "**Divide customers into bins based on tenure e.g. for tenure < 12 months: assign a tenure group of 1-12, for tenure between 1 to 2 Yrs, tenure group of 13-24; so on...**"
   ]
  },
  {
   "cell_type": "code",
   "execution_count": 19,
   "metadata": {
    "colab": {
     "base_uri": "https://localhost:8080/"
    },
    "id": "EnaiQTHKAzrr",
    "outputId": "7c598562-f0b4-4970-a043-6acdf3706049"
   },
   "outputs": [
    {
     "name": "stdout",
     "output_type": "stream",
     "text": [
      "72\n"
     ]
    }
   ],
   "source": [
    "# Get the max tenure\n",
    "print(df1['tenure'].max())"
   ]
  },
  {
   "cell_type": "code",
   "execution_count": 20,
   "metadata": {
    "id": "bn_3WqtsA7go"
   },
   "outputs": [],
   "source": [
    "#Group the tenure in bins of 12 months\n",
    "#pd.cut() function is used to bin the 'tenure' column into discrete intervals (groups) based on the specified bins and labels.\n",
    "labels = [\"{0} - {1}\".format(i, i + 11) for i in range(1, 72, 12)]\n",
    "df1['tenure_group'] = pd.cut(df1.tenure, range(1, 80, 12), right=False, labels=labels)"
   ]
  },
  {
   "cell_type": "code",
   "execution_count": 21,
   "metadata": {
    "colab": {
     "base_uri": "https://localhost:8080/"
    },
    "id": "Q_xD8dDtBBA_",
    "outputId": "78a16321-bde8-4eba-a375-cf3af04042e6"
   },
   "outputs": [
    {
     "data": {
      "text/plain": [
       "tenure_group\n",
       "1 - 12     2175\n",
       "61 - 72    1407\n",
       "13 - 24    1024\n",
       "25 - 36     832\n",
       "49 - 60     832\n",
       "37 - 48     762\n",
       "Name: count, dtype: int64"
      ]
     },
     "execution_count": 21,
     "metadata": {},
     "output_type": "execute_result"
    }
   ],
   "source": [
    "df1['tenure_group'].value_counts()"
   ]
  },
  {
   "cell_type": "markdown",
   "metadata": {
    "id": "RZ99XsvdBBE-"
   },
   "source": [
    "Remove columns not required for processing"
   ]
  },
  {
   "cell_type": "code",
   "execution_count": 22,
   "metadata": {
    "colab": {
     "base_uri": "https://localhost:8080/",
     "height": 295
    },
    "id": "oAlqnbMRBIj-",
    "outputId": "d3af6784-231d-4829-e7f7-e9ffc3d58008"
   },
   "outputs": [
    {
     "data": {
      "text/html": [
       "<div>\n",
       "<style scoped>\n",
       "    .dataframe tbody tr th:only-of-type {\n",
       "        vertical-align: middle;\n",
       "    }\n",
       "\n",
       "    .dataframe tbody tr th {\n",
       "        vertical-align: top;\n",
       "    }\n",
       "\n",
       "    .dataframe thead th {\n",
       "        text-align: right;\n",
       "    }\n",
       "</style>\n",
       "<table border=\"1\" class=\"dataframe\">\n",
       "  <thead>\n",
       "    <tr style=\"text-align: right;\">\n",
       "      <th></th>\n",
       "      <th>gender</th>\n",
       "      <th>SeniorCitizen</th>\n",
       "      <th>Partner</th>\n",
       "      <th>Dependents</th>\n",
       "      <th>PhoneService</th>\n",
       "      <th>MultipleLines</th>\n",
       "      <th>InternetService</th>\n",
       "      <th>OnlineSecurity</th>\n",
       "      <th>OnlineBackup</th>\n",
       "      <th>DeviceProtection</th>\n",
       "      <th>TechSupport</th>\n",
       "      <th>StreamingTV</th>\n",
       "      <th>StreamingMovies</th>\n",
       "      <th>Contract</th>\n",
       "      <th>PaperlessBilling</th>\n",
       "      <th>PaymentMethod</th>\n",
       "      <th>MonthlyCharges</th>\n",
       "      <th>TotalCharges</th>\n",
       "      <th>Churn</th>\n",
       "      <th>tenure_group</th>\n",
       "    </tr>\n",
       "  </thead>\n",
       "  <tbody>\n",
       "    <tr>\n",
       "      <th>0</th>\n",
       "      <td>Female</td>\n",
       "      <td>0</td>\n",
       "      <td>Yes</td>\n",
       "      <td>No</td>\n",
       "      <td>No</td>\n",
       "      <td>No phone service</td>\n",
       "      <td>DSL</td>\n",
       "      <td>No</td>\n",
       "      <td>Yes</td>\n",
       "      <td>No</td>\n",
       "      <td>No</td>\n",
       "      <td>No</td>\n",
       "      <td>No</td>\n",
       "      <td>Month-to-month</td>\n",
       "      <td>Yes</td>\n",
       "      <td>Electronic check</td>\n",
       "      <td>29.85</td>\n",
       "      <td>29.85</td>\n",
       "      <td>No</td>\n",
       "      <td>1 - 12</td>\n",
       "    </tr>\n",
       "    <tr>\n",
       "      <th>1</th>\n",
       "      <td>Male</td>\n",
       "      <td>0</td>\n",
       "      <td>No</td>\n",
       "      <td>No</td>\n",
       "      <td>Yes</td>\n",
       "      <td>No</td>\n",
       "      <td>DSL</td>\n",
       "      <td>Yes</td>\n",
       "      <td>No</td>\n",
       "      <td>Yes</td>\n",
       "      <td>No</td>\n",
       "      <td>No</td>\n",
       "      <td>No</td>\n",
       "      <td>One year</td>\n",
       "      <td>No</td>\n",
       "      <td>Mailed check</td>\n",
       "      <td>56.95</td>\n",
       "      <td>1889.50</td>\n",
       "      <td>No</td>\n",
       "      <td>25 - 36</td>\n",
       "    </tr>\n",
       "    <tr>\n",
       "      <th>2</th>\n",
       "      <td>Male</td>\n",
       "      <td>0</td>\n",
       "      <td>No</td>\n",
       "      <td>No</td>\n",
       "      <td>Yes</td>\n",
       "      <td>No</td>\n",
       "      <td>DSL</td>\n",
       "      <td>Yes</td>\n",
       "      <td>Yes</td>\n",
       "      <td>No</td>\n",
       "      <td>No</td>\n",
       "      <td>No</td>\n",
       "      <td>No</td>\n",
       "      <td>Month-to-month</td>\n",
       "      <td>Yes</td>\n",
       "      <td>Mailed check</td>\n",
       "      <td>53.85</td>\n",
       "      <td>108.15</td>\n",
       "      <td>Yes</td>\n",
       "      <td>1 - 12</td>\n",
       "    </tr>\n",
       "    <tr>\n",
       "      <th>3</th>\n",
       "      <td>Male</td>\n",
       "      <td>0</td>\n",
       "      <td>No</td>\n",
       "      <td>No</td>\n",
       "      <td>No</td>\n",
       "      <td>No phone service</td>\n",
       "      <td>DSL</td>\n",
       "      <td>Yes</td>\n",
       "      <td>No</td>\n",
       "      <td>Yes</td>\n",
       "      <td>Yes</td>\n",
       "      <td>No</td>\n",
       "      <td>No</td>\n",
       "      <td>One year</td>\n",
       "      <td>No</td>\n",
       "      <td>Bank transfer (automatic)</td>\n",
       "      <td>42.30</td>\n",
       "      <td>1840.75</td>\n",
       "      <td>No</td>\n",
       "      <td>37 - 48</td>\n",
       "    </tr>\n",
       "    <tr>\n",
       "      <th>4</th>\n",
       "      <td>Female</td>\n",
       "      <td>0</td>\n",
       "      <td>No</td>\n",
       "      <td>No</td>\n",
       "      <td>Yes</td>\n",
       "      <td>No</td>\n",
       "      <td>Fiber optic</td>\n",
       "      <td>No</td>\n",
       "      <td>No</td>\n",
       "      <td>No</td>\n",
       "      <td>No</td>\n",
       "      <td>No</td>\n",
       "      <td>No</td>\n",
       "      <td>Month-to-month</td>\n",
       "      <td>Yes</td>\n",
       "      <td>Electronic check</td>\n",
       "      <td>70.70</td>\n",
       "      <td>151.65</td>\n",
       "      <td>Yes</td>\n",
       "      <td>1 - 12</td>\n",
       "    </tr>\n",
       "  </tbody>\n",
       "</table>\n",
       "</div>"
      ],
      "text/plain": [
       "   gender  SeniorCitizen Partner Dependents PhoneService     MultipleLines  \\\n",
       "0  Female              0     Yes         No           No  No phone service   \n",
       "1    Male              0      No         No          Yes                No   \n",
       "2    Male              0      No         No          Yes                No   \n",
       "3    Male              0      No         No           No  No phone service   \n",
       "4  Female              0      No         No          Yes                No   \n",
       "\n",
       "  InternetService OnlineSecurity OnlineBackup DeviceProtection TechSupport  \\\n",
       "0             DSL             No          Yes               No          No   \n",
       "1             DSL            Yes           No              Yes          No   \n",
       "2             DSL            Yes          Yes               No          No   \n",
       "3             DSL            Yes           No              Yes         Yes   \n",
       "4     Fiber optic             No           No               No          No   \n",
       "\n",
       "  StreamingTV StreamingMovies        Contract PaperlessBilling  \\\n",
       "0          No              No  Month-to-month              Yes   \n",
       "1          No              No        One year               No   \n",
       "2          No              No  Month-to-month              Yes   \n",
       "3          No              No        One year               No   \n",
       "4          No              No  Month-to-month              Yes   \n",
       "\n",
       "               PaymentMethod  MonthlyCharges  TotalCharges Churn tenure_group  \n",
       "0           Electronic check           29.85         29.85    No       1 - 12  \n",
       "1               Mailed check           56.95       1889.50    No      25 - 36  \n",
       "2               Mailed check           53.85        108.15   Yes       1 - 12  \n",
       "3  Bank transfer (automatic)           42.30       1840.75    No      37 - 48  \n",
       "4           Electronic check           70.70        151.65   Yes       1 - 12  "
      ]
     },
     "execution_count": 22,
     "metadata": {},
     "output_type": "execute_result"
    }
   ],
   "source": [
    "#drop column customerID and tenure\n",
    "df1.drop(columns= ['customerID','tenure'], axis=1, inplace=True)\n",
    "df1.head()\n",
    "#drop column customerID and tenure"
   ]
  },
  {
   "cell_type": "markdown",
   "metadata": {
    "id": "6Wa64hTWBIm7"
   },
   "source": [
    "## DATA EXPLORATION"
   ]
  },
  {
   "cell_type": "code",
   "execution_count": 23,
   "metadata": {
    "colab": {
     "base_uri": "https://localhost:8080/"
    },
    "id": "-IScCG7HBIpm",
    "outputId": "0b30ff5f-5189-4be2-c06d-89d826f3a519"
   },
   "outputs": [
    {
     "name": "stdout",
     "output_type": "stream",
     "text": [
      "<class 'pandas.core.frame.DataFrame'>\n",
      "Index: 7032 entries, 0 to 7042\n",
      "Data columns (total 20 columns):\n",
      " #   Column            Non-Null Count  Dtype   \n",
      "---  ------            --------------  -----   \n",
      " 0   gender            7032 non-null   object  \n",
      " 1   SeniorCitizen     7032 non-null   int64   \n",
      " 2   Partner           7032 non-null   object  \n",
      " 3   Dependents        7032 non-null   object  \n",
      " 4   PhoneService      7032 non-null   object  \n",
      " 5   MultipleLines     7032 non-null   object  \n",
      " 6   InternetService   7032 non-null   object  \n",
      " 7   OnlineSecurity    7032 non-null   object  \n",
      " 8   OnlineBackup      7032 non-null   object  \n",
      " 9   DeviceProtection  7032 non-null   object  \n",
      " 10  TechSupport       7032 non-null   object  \n",
      " 11  StreamingTV       7032 non-null   object  \n",
      " 12  StreamingMovies   7032 non-null   object  \n",
      " 13  Contract          7032 non-null   object  \n",
      " 14  PaperlessBilling  7032 non-null   object  \n",
      " 15  PaymentMethod     7032 non-null   object  \n",
      " 16  MonthlyCharges    7032 non-null   float64 \n",
      " 17  TotalCharges      7032 non-null   float64 \n",
      " 18  Churn             7032 non-null   object  \n",
      " 19  tenure_group      7032 non-null   category\n",
      "dtypes: category(1), float64(2), int64(1), object(16)\n",
      "memory usage: 1.1+ MB\n"
     ]
    }
   ],
   "source": [
    "df1.info()"
   ]
  },
  {
   "cell_type": "markdown",
   "metadata": {
    "id": "rx-2Fn8xBIs0"
   },
   "source": [
    "*MonthlyCharges and TotalCharges are of continuous type so we will not prefer barplot for them*"
   ]
  },
  {
   "cell_type": "markdown",
   "metadata": {
    "id": "OcmsmKH8CzRl"
   },
   "source": [
    "**Plot distibution of individual predictors wrt churn**"
   ]
  },
  {
   "cell_type": "code",
   "execution_count": 24,
   "metadata": {
    "colab": {
     "base_uri": "https://localhost:8080/",
     "height": 1000
    },
    "id": "4PKu8-0GCzUo",
    "outputId": "f911305f-1cc2-41cd-9b7b-1ef4f873fdbf"
   },
   "outputs": [
    {
     "data": {
      "image/png": "[encoded data removed]",
      "text/plain": [
       "<Figure size 640x480 with 1 Axes>"
      ]
     },
     "metadata": {},
     "output_type": "display_data"
    },
    {
     "data": {
      "image/png": "[encoded data removed]",
      "text/plain": [
       "<Figure size 640x480 with 1 Axes>"
      ]
     },
     "metadata": {},
     "output_type": "display_data"
    },
    {
     "data": {
      "image/png": "[encoded data removed]",
      "text/plain": [
       "<Figure size 640x480 with 1 Axes>"
      ]
     },
     "metadata": {},
     "output_type": "display_data"
    },
    {
     "data": {
      "image/png": "[encoded data removed]",
      "text/plain": [
       "<Figure size 640x480 with 1 Axes>"
      ]
     },
     "metadata": {},
     "output_type": "display_data"
    },
    {
     "data": {
      "image/png": "[encoded data removed]",
      "text/plain": [
       "<Figure size 640x480 with 1 Axes>"
      ]
     },
     "metadata": {},
     "output_type": "display_data"
    },
    {
     "data": {
      "image/png": "[encoded data removed]",
      "text/plain": [
       "<Figure size 640x480 with 1 Axes>"
      ]
     },
     "metadata": {},
     "output_type": "display_data"
    },
    {
     "data": {
      "image/png": "[encoded data removed]",
      "text/plain": [
       "<Figure size 640x480 with 1 Axes>"
      ]
     },
     "metadata": {},
     "output_type": "display_data"
    },
    {
     "data": {
      "image/png": "[encoded data removed]",
      "text/plain": [
       "<Figure size 640x480 with 1 Axes>"
      ]
     },
     "metadata": {},
     "output_type": "display_data"
    },
    {
     "data": {
      "image/png": "[encoded data removed]",
      "text/plain": [
       "<Figure size 640x480 with 1 Axes>"
      ]
     },
     "metadata": {},
     "output_type": "display_data"
    },
    {
     "data": {
      "image/png": "[encoded data removed]",
      "text/plain": [
       "<Figure size 640x480 with 1 Axes>"
      ]
     },
     "metadata": {},
     "output_type": "display_data"
    },
    {
     "data": {
      "image/png": "[encoded data removed]",
      "text/plain": [
       "<Figure size 640x480 with 1 Axes>"
      ]
     },
     "metadata": {},
     "output_type": "display_data"
    },
    {
     "data": {
      "image/png": "[encoded data removed]",
      "text/plain": [
       "<Figure size 640x480 with 1 Axes>"
      ]
     },
     "metadata": {},
     "output_type": "display_data"
    },
    {
     "data": {
      "image/png": "[encoded data removed]",
      "text/plain": [
       "<Figure size 640x480 with 1 Axes>"
      ]
     },
     "metadata": {},
     "output_type": "display_data"
    },
    {
     "data": {
      "image/png": "[encoded data removed]",
      "text/plain": [
       "<Figure size 640x480 with 1 Axes>"
      ]
     },
     "metadata": {},
     "output_type": "display_data"
    },
    {
     "data": {
      "image/png": "[encoded data removed]",
      "text/plain": [
       "<Figure size 640x480 with 1 Axes>"
      ]
     },
     "metadata": {},
     "output_type": "display_data"
    },
    {
     "data": {
      "image/png": "[encoded data removed]",
      "text/plain": [
       "<Figure size 640x480 with 1 Axes>"
      ]
     },
     "metadata": {},
     "output_type": "display_data"
    },
    {
     "data": {
      "image/png": "[encoded data removed]",
      "text/plain": [
       "<Figure size 640x480 with 1 Axes>"
      ]
     },
     "metadata": {},
     "output_type": "display_data"
    }
   ],
   "source": [
    "#The enumerate function is used to iterate over both the index i and the values in the DataFrame columns.\n",
    "predictors = df1.drop(columns=['Churn', 'TotalCharges', 'MonthlyCharges']) #predictors wrt churn for plot distribution\n",
    "for i, predictor in enumerate(predictors):\n",
    "\n",
    "    plt.figure(i)\n",
    "    sns.countplot(data=df1, x=predictor, hue='Churn',palette='Set1')\n",
    "    plt.title(f'Countplot for {predictor}')\n",
    "\n",
    "plt.show()"
   ]
  },
  {
   "cell_type": "markdown",
   "metadata": {
    "id": "Yr3guCNMCzXv"
   },
   "source": [
    "***Analysis:***\n",
    "\n",
    "* Gender: Both Gender have equal churn ratios, it is not an importnat feacture standalone.\n",
    "\n",
    "* Senior Citizen: If the customer is senior citizen he/she is more likely to churn.\n",
    "\n",
    "* Partner: If the person is single, then he or she is more likely to churn.\n",
    "\n",
    "* Dependents: If the person has no dependents, then they are more likely to churn.\n",
    "\n",
    "* Phone Services: Person with Phone Services are more likely to churn.\n",
    "\n",
    "* Multiple Lines: Equal churn ratio is seen between the person with or without multiple lines.\n",
    "\n",
    "* Internet Services: Person with Fibre Optic Internet Connection is highly likely to churn.\n",
    "\n",
    "* Online Security: Person with no online security is more likely to churn.\n",
    "\n",
    "* Online Backup: Person with no online backup is more likely to churn.\n",
    "\n",
    "* Device Protection: Perosn with no devive protection is more likely to churn.\n",
    "\n",
    "* Tech Support: Person with no Tech support is more likely to churn.\n",
    "\n",
    "* Streaming TV: Person not streaming a TV is more liekly to churn.\n",
    "\n",
    "* Streaming Movies: Person not streaming a movie is more likely to churn.\n",
    "\n",
    "* Contract: Person is monthly contract is highly likely to churn.\n",
    "\n",
    "* Paperless Bill: Person having paperless billing is more likely to churn.\n",
    "\n",
    "* Payment Method: Person having electronic check payment method is most likely to churn.\n",
    "\n",
    "* Tenure Group: People between the tenure period of 1-12 months are most likely to churn. People with higher tenure period are less likely to churn."
   ]
  },
  {
   "cell_type": "markdown",
   "metadata": {
    "id": "LYy4p49f1d0o"
   },
   "source": [
    "*Convert the target variable 'Churn' in a binary numeric variable i.e. Yes=1 ; No = 0*"
   ]
  },
  {
   "cell_type": "code",
   "execution_count": 25,
   "metadata": {
    "id": "T6p5t-WqHWR5"
   },
   "outputs": [],
   "source": [
    "#Replacing Yes as 1 and No as 0 in Churn column\n",
    "df1['Churn'] = df1['Churn'].map({'Yes': 1, 'No': 0})"
   ]
  },
  {
   "cell_type": "code",
   "execution_count": 26,
   "metadata": {
    "colab": {
     "base_uri": "https://localhost:8080/"
    },
    "id": "zJiAN9kyHrIQ",
    "outputId": "6058204f-431b-4d3b-a6d3-ca47a8fc4994"
   },
   "outputs": [
    {
     "data": {
      "text/plain": [
       "Churn\n",
       "0    5163\n",
       "1    1869\n",
       "Name: count, dtype: int64"
      ]
     },
     "execution_count": 26,
     "metadata": {},
     "output_type": "execute_result"
    }
   ],
   "source": [
    "df1['Churn'].value_counts()"
   ]
  },
  {
   "cell_type": "code",
   "execution_count": 27,
   "metadata": {
    "colab": {
     "base_uri": "https://localhost:8080/",
     "height": 295
    },
    "id": "M-9qqZmaEGmU",
    "outputId": "1bf29a03-dddc-4354-9463-aaf3e355f953"
   },
   "outputs": [
    {
     "data": {
      "text/html": [
       "<div>\n",
       "<style scoped>\n",
       "    .dataframe tbody tr th:only-of-type {\n",
       "        vertical-align: middle;\n",
       "    }\n",
       "\n",
       "    .dataframe tbody tr th {\n",
       "        vertical-align: top;\n",
       "    }\n",
       "\n",
       "    .dataframe thead th {\n",
       "        text-align: right;\n",
       "    }\n",
       "</style>\n",
       "<table border=\"1\" class=\"dataframe\">\n",
       "  <thead>\n",
       "    <tr style=\"text-align: right;\">\n",
       "      <th></th>\n",
       "      <th>gender</th>\n",
       "      <th>SeniorCitizen</th>\n",
       "      <th>Partner</th>\n",
       "      <th>Dependents</th>\n",
       "      <th>PhoneService</th>\n",
       "      <th>MultipleLines</th>\n",
       "      <th>InternetService</th>\n",
       "      <th>OnlineSecurity</th>\n",
       "      <th>OnlineBackup</th>\n",
       "      <th>DeviceProtection</th>\n",
       "      <th>TechSupport</th>\n",
       "      <th>StreamingTV</th>\n",
       "      <th>StreamingMovies</th>\n",
       "      <th>Contract</th>\n",
       "      <th>PaperlessBilling</th>\n",
       "      <th>PaymentMethod</th>\n",
       "      <th>MonthlyCharges</th>\n",
       "      <th>TotalCharges</th>\n",
       "      <th>Churn</th>\n",
       "      <th>tenure_group</th>\n",
       "    </tr>\n",
       "  </thead>\n",
       "  <tbody>\n",
       "    <tr>\n",
       "      <th>0</th>\n",
       "      <td>Female</td>\n",
       "      <td>0</td>\n",
       "      <td>Yes</td>\n",
       "      <td>No</td>\n",
       "      <td>No</td>\n",
       "      <td>No phone service</td>\n",
       "      <td>DSL</td>\n",
       "      <td>No</td>\n",
       "      <td>Yes</td>\n",
       "      <td>No</td>\n",
       "      <td>No</td>\n",
       "      <td>No</td>\n",
       "      <td>No</td>\n",
       "      <td>Month-to-month</td>\n",
       "      <td>Yes</td>\n",
       "      <td>Electronic check</td>\n",
       "      <td>29.85</td>\n",
       "      <td>29.85</td>\n",
       "      <td>0</td>\n",
       "      <td>1 - 12</td>\n",
       "    </tr>\n",
       "    <tr>\n",
       "      <th>1</th>\n",
       "      <td>Male</td>\n",
       "      <td>0</td>\n",
       "      <td>No</td>\n",
       "      <td>No</td>\n",
       "      <td>Yes</td>\n",
       "      <td>No</td>\n",
       "      <td>DSL</td>\n",
       "      <td>Yes</td>\n",
       "      <td>No</td>\n",
       "      <td>Yes</td>\n",
       "      <td>No</td>\n",
       "      <td>No</td>\n",
       "      <td>No</td>\n",
       "      <td>One year</td>\n",
       "      <td>No</td>\n",
       "      <td>Mailed check</td>\n",
       "      <td>56.95</td>\n",
       "      <td>1889.50</td>\n",
       "      <td>0</td>\n",
       "      <td>25 - 36</td>\n",
       "    </tr>\n",
       "    <tr>\n",
       "      <th>2</th>\n",
       "      <td>Male</td>\n",
       "      <td>0</td>\n",
       "      <td>No</td>\n",
       "      <td>No</td>\n",
       "      <td>Yes</td>\n",
       "      <td>No</td>\n",
       "      <td>DSL</td>\n",
       "      <td>Yes</td>\n",
       "      <td>Yes</td>\n",
       "      <td>No</td>\n",
       "      <td>No</td>\n",
       "      <td>No</td>\n",
       "      <td>No</td>\n",
       "      <td>Month-to-month</td>\n",
       "      <td>Yes</td>\n",
       "      <td>Mailed check</td>\n",
       "      <td>53.85</td>\n",
       "      <td>108.15</td>\n",
       "      <td>1</td>\n",
       "      <td>1 - 12</td>\n",
       "    </tr>\n",
       "    <tr>\n",
       "      <th>3</th>\n",
       "      <td>Male</td>\n",
       "      <td>0</td>\n",
       "      <td>No</td>\n",
       "      <td>No</td>\n",
       "      <td>No</td>\n",
       "      <td>No phone service</td>\n",
       "      <td>DSL</td>\n",
       "      <td>Yes</td>\n",
       "      <td>No</td>\n",
       "      <td>Yes</td>\n",
       "      <td>Yes</td>\n",
       "      <td>No</td>\n",
       "      <td>No</td>\n",
       "      <td>One year</td>\n",
       "      <td>No</td>\n",
       "      <td>Bank transfer (automatic)</td>\n",
       "      <td>42.30</td>\n",
       "      <td>1840.75</td>\n",
       "      <td>0</td>\n",
       "      <td>37 - 48</td>\n",
       "    </tr>\n",
       "    <tr>\n",
       "      <th>4</th>\n",
       "      <td>Female</td>\n",
       "      <td>0</td>\n",
       "      <td>No</td>\n",
       "      <td>No</td>\n",
       "      <td>Yes</td>\n",
       "      <td>No</td>\n",
       "      <td>Fiber optic</td>\n",
       "      <td>No</td>\n",
       "      <td>No</td>\n",
       "      <td>No</td>\n",
       "      <td>No</td>\n",
       "      <td>No</td>\n",
       "      <td>No</td>\n",
       "      <td>Month-to-month</td>\n",
       "      <td>Yes</td>\n",
       "      <td>Electronic check</td>\n",
       "      <td>70.70</td>\n",
       "      <td>151.65</td>\n",
       "      <td>1</td>\n",
       "      <td>1 - 12</td>\n",
       "    </tr>\n",
       "  </tbody>\n",
       "</table>\n",
       "</div>"
      ],
      "text/plain": [
       "   gender  SeniorCitizen Partner Dependents PhoneService     MultipleLines  \\\n",
       "0  Female              0     Yes         No           No  No phone service   \n",
       "1    Male              0      No         No          Yes                No   \n",
       "2    Male              0      No         No          Yes                No   \n",
       "3    Male              0      No         No           No  No phone service   \n",
       "4  Female              0      No         No          Yes                No   \n",
       "\n",
       "  InternetService OnlineSecurity OnlineBackup DeviceProtection TechSupport  \\\n",
       "0             DSL             No          Yes               No          No   \n",
       "1             DSL            Yes           No              Yes          No   \n",
       "2             DSL            Yes          Yes               No          No   \n",
       "3             DSL            Yes           No              Yes         Yes   \n",
       "4     Fiber optic             No           No               No          No   \n",
       "\n",
       "  StreamingTV StreamingMovies        Contract PaperlessBilling  \\\n",
       "0          No              No  Month-to-month              Yes   \n",
       "1          No              No        One year               No   \n",
       "2          No              No  Month-to-month              Yes   \n",
       "3          No              No        One year               No   \n",
       "4          No              No  Month-to-month              Yes   \n",
       "\n",
       "               PaymentMethod  MonthlyCharges  TotalCharges  Churn tenure_group  \n",
       "0           Electronic check           29.85         29.85      0       1 - 12  \n",
       "1               Mailed check           56.95       1889.50      0      25 - 36  \n",
       "2               Mailed check           53.85        108.15      1       1 - 12  \n",
       "3  Bank transfer (automatic)           42.30       1840.75      0      37 - 48  \n",
       "4           Electronic check           70.70        151.65      1       1 - 12  "
      ]
     },
     "execution_count": 27,
     "metadata": {},
     "output_type": "execute_result"
    }
   ],
   "source": [
    "df1.head()"
   ]
  },
  {
   "cell_type": "markdown",
   "metadata": {
    "id": "ZOMLWJ2MEGpb"
   },
   "source": [
    "***Convert all the categorical variables into dummy variables : Label Encoding [should only be done for target values] and One hot encoding.***"
   ]
  },
  {
   "cell_type": "code",
   "execution_count": 28,
   "metadata": {
    "colab": {
     "base_uri": "https://localhost:8080/",
     "height": 290
    },
    "id": "LskZ1v2nEGsi",
    "outputId": "ca0881d0-ed71-48ec-c45c-efd62a697321"
   },
   "outputs": [
    {
     "data": {
      "text/html": [
       "<div>\n",
       "<style scoped>\n",
       "    .dataframe tbody tr th:only-of-type {\n",
       "        vertical-align: middle;\n",
       "    }\n",
       "\n",
       "    .dataframe tbody tr th {\n",
       "        vertical-align: top;\n",
       "    }\n",
       "\n",
       "    .dataframe thead th {\n",
       "        text-align: right;\n",
       "    }\n",
       "</style>\n",
       "<table border=\"1\" class=\"dataframe\">\n",
       "  <thead>\n",
       "    <tr style=\"text-align: right;\">\n",
       "      <th></th>\n",
       "      <th>SeniorCitizen</th>\n",
       "      <th>MonthlyCharges</th>\n",
       "      <th>TotalCharges</th>\n",
       "      <th>Churn</th>\n",
       "      <th>gender_Female</th>\n",
       "      <th>gender_Male</th>\n",
       "      <th>Partner_No</th>\n",
       "      <th>Partner_Yes</th>\n",
       "      <th>Dependents_No</th>\n",
       "      <th>Dependents_Yes</th>\n",
       "      <th>...</th>\n",
       "      <th>PaymentMethod_Bank transfer (automatic)</th>\n",
       "      <th>PaymentMethod_Credit card (automatic)</th>\n",
       "      <th>PaymentMethod_Electronic check</th>\n",
       "      <th>PaymentMethod_Mailed check</th>\n",
       "      <th>tenure_group_1 - 12</th>\n",
       "      <th>tenure_group_13 - 24</th>\n",
       "      <th>tenure_group_25 - 36</th>\n",
       "      <th>tenure_group_37 - 48</th>\n",
       "      <th>tenure_group_49 - 60</th>\n",
       "      <th>tenure_group_61 - 72</th>\n",
       "    </tr>\n",
       "  </thead>\n",
       "  <tbody>\n",
       "    <tr>\n",
       "      <th>0</th>\n",
       "      <td>0</td>\n",
       "      <td>29.85</td>\n",
       "      <td>29.85</td>\n",
       "      <td>0</td>\n",
       "      <td>True</td>\n",
       "      <td>False</td>\n",
       "      <td>False</td>\n",
       "      <td>True</td>\n",
       "      <td>True</td>\n",
       "      <td>False</td>\n",
       "      <td>...</td>\n",
       "      <td>False</td>\n",
       "      <td>False</td>\n",
       "      <td>True</td>\n",
       "      <td>False</td>\n",
       "      <td>True</td>\n",
       "      <td>False</td>\n",
       "      <td>False</td>\n",
       "      <td>False</td>\n",
       "      <td>False</td>\n",
       "      <td>False</td>\n",
       "    </tr>\n",
       "    <tr>\n",
       "      <th>1</th>\n",
       "      <td>0</td>\n",
       "      <td>56.95</td>\n",
       "      <td>1889.50</td>\n",
       "      <td>0</td>\n",
       "      <td>False</td>\n",
       "      <td>True</td>\n",
       "      <td>True</td>\n",
       "      <td>False</td>\n",
       "      <td>True</td>\n",
       "      <td>False</td>\n",
       "      <td>...</td>\n",
       "      <td>False</td>\n",
       "      <td>False</td>\n",
       "      <td>False</td>\n",
       "      <td>True</td>\n",
       "      <td>False</td>\n",
       "      <td>False</td>\n",
       "      <td>True</td>\n",
       "      <td>False</td>\n",
       "      <td>False</td>\n",
       "      <td>False</td>\n",
       "    </tr>\n",
       "    <tr>\n",
       "      <th>2</th>\n",
       "      <td>0</td>\n",
       "      <td>53.85</td>\n",
       "      <td>108.15</td>\n",
       "      <td>1</td>\n",
       "      <td>False</td>\n",
       "      <td>True</td>\n",
       "      <td>True</td>\n",
       "      <td>False</td>\n",
       "      <td>True</td>\n",
       "      <td>False</td>\n",
       "      <td>...</td>\n",
       "      <td>False</td>\n",
       "      <td>False</td>\n",
       "      <td>False</td>\n",
       "      <td>True</td>\n",
       "      <td>True</td>\n",
       "      <td>False</td>\n",
       "      <td>False</td>\n",
       "      <td>False</td>\n",
       "      <td>False</td>\n",
       "      <td>False</td>\n",
       "    </tr>\n",
       "    <tr>\n",
       "      <th>3</th>\n",
       "      <td>0</td>\n",
       "      <td>42.30</td>\n",
       "      <td>1840.75</td>\n",
       "      <td>0</td>\n",
       "      <td>False</td>\n",
       "      <td>True</td>\n",
       "      <td>True</td>\n",
       "      <td>False</td>\n",
       "      <td>True</td>\n",
       "      <td>False</td>\n",
       "      <td>...</td>\n",
       "      <td>True</td>\n",
       "      <td>False</td>\n",
       "      <td>False</td>\n",
       "      <td>False</td>\n",
       "      <td>False</td>\n",
       "      <td>False</td>\n",
       "      <td>False</td>\n",
       "      <td>True</td>\n",
       "      <td>False</td>\n",
       "      <td>False</td>\n",
       "    </tr>\n",
       "    <tr>\n",
       "      <th>4</th>\n",
       "      <td>0</td>\n",
       "      <td>70.70</td>\n",
       "      <td>151.65</td>\n",
       "      <td>1</td>\n",
       "      <td>True</td>\n",
       "      <td>False</td>\n",
       "      <td>True</td>\n",
       "      <td>False</td>\n",
       "      <td>True</td>\n",
       "      <td>False</td>\n",
       "      <td>...</td>\n",
       "      <td>False</td>\n",
       "      <td>False</td>\n",
       "      <td>True</td>\n",
       "      <td>False</td>\n",
       "      <td>True</td>\n",
       "      <td>False</td>\n",
       "      <td>False</td>\n",
       "      <td>False</td>\n",
       "      <td>False</td>\n",
       "      <td>False</td>\n",
       "    </tr>\n",
       "  </tbody>\n",
       "</table>\n",
       "<p>5 rows × 51 columns</p>\n",
       "</div>"
      ],
      "text/plain": [
       "   SeniorCitizen  MonthlyCharges  TotalCharges  Churn  gender_Female  \\\n",
       "0              0           29.85         29.85      0           True   \n",
       "1              0           56.95       1889.50      0          False   \n",
       "2              0           53.85        108.15      1          False   \n",
       "3              0           42.30       1840.75      0          False   \n",
       "4              0           70.70        151.65      1           True   \n",
       "\n",
       "   gender_Male  Partner_No  Partner_Yes  Dependents_No  Dependents_Yes  ...  \\\n",
       "0        False       False         True           True           False  ...   \n",
       "1         True        True        False           True           False  ...   \n",
       "2         True        True        False           True           False  ...   \n",
       "3         True        True        False           True           False  ...   \n",
       "4        False        True        False           True           False  ...   \n",
       "\n",
       "   PaymentMethod_Bank transfer (automatic)  \\\n",
       "0                                    False   \n",
       "1                                    False   \n",
       "2                                    False   \n",
       "3                                     True   \n",
       "4                                    False   \n",
       "\n",
       "   PaymentMethod_Credit card (automatic)  PaymentMethod_Electronic check  \\\n",
       "0                                  False                            True   \n",
       "1                                  False                           False   \n",
       "2                                  False                           False   \n",
       "3                                  False                           False   \n",
       "4                                  False                            True   \n",
       "\n",
       "   PaymentMethod_Mailed check  tenure_group_1 - 12  tenure_group_13 - 24  \\\n",
       "0                       False                 True                 False   \n",
       "1                        True                False                 False   \n",
       "2                        True                 True                 False   \n",
       "3                       False                False                 False   \n",
       "4                       False                 True                 False   \n",
       "\n",
       "   tenure_group_25 - 36  tenure_group_37 - 48  tenure_group_49 - 60  \\\n",
       "0                 False                 False                 False   \n",
       "1                  True                 False                 False   \n",
       "2                 False                 False                 False   \n",
       "3                 False                  True                 False   \n",
       "4                 False                 False                 False   \n",
       "\n",
       "   tenure_group_61 - 72  \n",
       "0                 False  \n",
       "1                 False  \n",
       "2                 False  \n",
       "3                 False  \n",
       "4                 False  \n",
       "\n",
       "[5 rows x 51 columns]"
      ]
     },
     "execution_count": 28,
     "metadata": {},
     "output_type": "execute_result"
    }
   ],
   "source": [
    "df2 = pd.get_dummies(df1)\n",
    "df2.head()"
   ]
  },
  {
   "cell_type": "markdown",
   "metadata": {
    "id": "AEH7uNvDEnpc"
   },
   "source": [
    "*Linear model plot*"
   ]
  },
  {
   "cell_type": "code",
   "execution_count": null,
   "metadata": {
    "colab": {
     "base_uri": "https://localhost:8080/",
     "height": 523
    },
    "id": "-v-xQHNXEGvZ",
    "outputId": "f1e097ac-0512-43d2-a130-6f3f1ad975cf"
   },
   "outputs": [],
   "source": [
    "sns.lmplot(data=df2, x='MonthlyCharges', y='TotalCharges', fit_reg=False)"
   ]
  },
  {
   "cell_type": "markdown",
   "metadata": {
    "id": "BXxPyk_cEGyk"
   },
   "source": [
    "***Total Charges increase as Monthly Charges increase - as expected.***"
   ]
  },
  {
   "cell_type": "markdown",
   "metadata": {
    "id": "cusNVIq8EG0n"
   },
   "source": [
    "**Churn wrt Monthly Charges and Total Charges**"
   ]
  },
  {
   "cell_type": "code",
   "execution_count": null,
   "metadata": {
    "colab": {
     "base_uri": "https://localhost:8080/",
     "height": 698
    },
    "id": "M0VQ4xlcEG3d",
    "outputId": "5cef144f-3384-4099-ebdb-e59284216225"
   },
   "outputs": [],
   "source": [
    "Month = sns.kdeplot(df2.MonthlyCharges[(df2[\"Churn\"] == 0) ],color=\"Red\", shade = True)\n",
    "Month = sns.kdeplot(df2.MonthlyCharges[(df2[\"Churn\"] == 1) ],ax =Month, color=\"Blue\", shade= True)\n",
    "Month.legend([\"No Churn\",\"Churn\"],loc='upper right')\n",
    "Month.set_ylabel('Density')\n",
    "Month.set_xlabel('Monthly Charges')\n",
    "Month.set_title('Monthly charges by churn')"
   ]
  },
  {
   "cell_type": "markdown",
   "metadata": {
    "id": "VZN_IDh-FEzM"
   },
   "source": [
    "**Insight**: Churn is high when Monthly Charges are high"
   ]
  },
  {
   "cell_type": "code",
   "execution_count": null,
   "metadata": {
    "colab": {
     "base_uri": "https://localhost:8080/",
     "height": 698
    },
    "id": "5P0vBXgSFE18",
    "outputId": "87e76568-1318-4189-e5de-5a81a4b8dff3"
   },
   "outputs": [],
   "source": [
    "Total = sns.kdeplot(df2.TotalCharges[(df2[\"Churn\"] == 0) ],color=\"Red\", shade = True)\n",
    "Total = sns.kdeplot(df2.TotalCharges[(df2[\"Churn\"] == 1) ],ax =Total, color=\"Blue\", shade= True)\n",
    "Total.legend([\"No Churn\",\"Churn\"],loc='upper right')\n",
    "Total.set_ylabel('Density')\n",
    "Total.set_xlabel('Total Charges')\n",
    "Total.set_title('Total charges by churn')"
   ]
  },
  {
   "cell_type": "markdown",
   "metadata": {
    "id": "6FYQk3N1FE6Q"
   },
   "source": [
    "**Surprising insight** : Churn is highest when the Total Charges are less"
   ]
  },
  {
   "cell_type": "markdown",
   "metadata": {
    "id": "v11SEiymFE_l"
   },
   "source": [
    "However if we combine the insights of 3 parameters i.e. Tenure, Monthly Charges & Total Charges then the picture is bit clear :- Higher Monthly Charge at lower tenure results into lower Total Charge. Hence, all these 3 factors viz **Higher Monthly Charge**, **Lower tenure** and **Lower Total Charge** are linked to **High Churn**."
   ]
  },
  {
   "cell_type": "code",
   "execution_count": null,
   "metadata": {
    "colab": {
     "base_uri": "https://localhost:8080/",
     "height": 979
    },
    "id": "PkOfVAFfF6IK",
    "outputId": "8b8b2800-3fb4-4006-87ac-4893755fd809"
   },
   "outputs": [],
   "source": [
    "plt.figure(figsize=(10,8))\n",
    "df2.corr()['Churn'].sort_values(ascending = False).plot(kind='bar')"
   ]
  },
  {
   "cell_type": "markdown",
   "metadata": {
    "id": "zPG0k2k1F6LH"
   },
   "source": [
    "**Derived Insight:**\n",
    "\n",
    "* HIGH Churn seen in case of **Month to month contracts**, **No online security**, **No Tech support**, **First year of subscription** and **Fibre Optics Internet**\n",
    "\n",
    "* LOW Churn is seens in case of **Long term contracts**, **Subscriptions without internet service** and **The customers engaged for 5+ years**\n",
    "\n",
    "* Factors like **Gender**, **Availability of PhoneService** and **# of multiple lines** have alomost **NO** impact on **Churn**"
   ]
  },
  {
   "cell_type": "markdown",
   "metadata": {
    "id": "rGUocFFNF6QZ"
   },
   "source": [
    "### BIVARIATE ANALYSIS"
   ]
  },
  {
   "cell_type": "code",
   "execution_count": null,
   "metadata": {
    "id": "DeajZ29uF6V_"
   },
   "outputs": [],
   "source": [
    "df1_0_Churn=df1.loc[df1[\"Churn\"]==0] #dataset containing no churn\n",
    "df1_1_Churn=df1.loc[df1[\"Churn\"]==1]  #dataset containing churners"
   ]
  },
  {
   "cell_type": "code",
   "execution_count": null,
   "metadata": {
    "colab": {
     "base_uri": "https://localhost:8080/"
    },
    "id": "wANIORmTI-wr",
    "outputId": "5b7d6f31-3826-4845-eb5e-cfcdfe44f0a7"
   },
   "outputs": [],
   "source": [
    "len(df1_1_Churn)"
   ]
  },
  {
   "cell_type": "code",
   "execution_count": null,
   "metadata": {
    "id": "3bgs8gXkGVfM"
   },
   "outputs": [],
   "source": [
    "import seaborn as sns\n",
    "import matplotlib.pyplot as plt\n",
    "import pandas as pd\n",
    "\n",
    "def uniplot(df, col, title):\n",
    "    sns.set_style('whitegrid')\n",
    "    sns.set_context('talk')\n",
    "\n",
    "    plt.rcParams[\"axes.labelsize\"] = 15\n",
    "    plt.rcParams['axes.titlesize'] = 22\n",
    "    plt.rcParams['axes.titlepad'] = 20\n",
    "\n",
    "    fig, ax = plt.subplots()\n",
    "\n",
    "    width = len(df[col].unique()) + 5\n",
    "    fig.set_size_inches(width,10)\n",
    "\n",
    "    plt.xticks(rotation=45)\n",
    "    # plt.yscale('log')\n",
    "    plt.title(title)\n",
    "    ax = sns.countplot(data=df, x=col, order=df[col].value_counts().index, palette='bright') #hue=col,legend=False\n",
    "    plt.show()"
   ]
  },
  {
   "cell_type": "code",
   "execution_count": null,
   "metadata": {
    "colab": {
     "base_uri": "https://localhost:8080/",
     "height": 943
    },
    "id": "5iLg5eDoGViG",
    "outputId": "0f2c094a-750a-4be7-82f6-555ac64b144d"
   },
   "outputs": [],
   "source": [
    "uniplot(df1_1_Churn,col='Partner',title='Distribution of Partners for Churned Customers')"
   ]
  },
  {
   "cell_type": "code",
   "execution_count": null,
   "metadata": {
    "colab": {
     "base_uri": "https://localhost:8080/",
     "height": 1000
    },
    "id": "lKaHDLtrGVl1",
    "outputId": "6a3f91f6-2222-4f10-940a-f8cc69ba207c"
   },
   "outputs": [],
   "source": [
    "uniplot(df1_1_Churn,col='PaymentMethod',title='Distribution of Payment Options for Churned Customers')"
   ]
  },
  {
   "cell_type": "code",
   "execution_count": null,
   "metadata": {
    "colab": {
     "base_uri": "https://localhost:8080/",
     "height": 1000
    },
    "id": "IlnCXM0mGVoZ",
    "outputId": "97dbb624-ee99-4757-d8e8-58431f9ab4fe"
   },
   "outputs": [],
   "source": [
    "uniplot(df1_1_Churn,col='Contract',title='Distribution of Contract for Churned Customers')"
   ]
  },
  {
   "cell_type": "code",
   "execution_count": null,
   "metadata": {
    "colab": {
     "base_uri": "https://localhost:8080/",
     "height": 1000
    },
    "id": "bMjV2SMsGVrB",
    "outputId": "a7a48f8b-cee1-4321-867f-1e1e4bb7f18c"
   },
   "outputs": [],
   "source": [
    "uniplot(df1_1_Churn,col='TechSupport',title='Distribution of Tech Support Options for Churned Customers')"
   ]
  },
  {
   "cell_type": "code",
   "execution_count": null,
   "metadata": {
    "colab": {
     "base_uri": "https://localhost:8080/",
     "height": 927
    },
    "id": "9yDfCSaGF6Y_",
    "outputId": "c7621248-0d63-454d-9566-0f12af770578"
   },
   "outputs": [],
   "source": [
    "uniplot(df1_1_Churn,col='SeniorCitizen',title='Distribution of Senior Citizen for Churned Customers')"
   ]
  },
  {
   "cell_type": "markdown",
   "metadata": {
    "id": "AA2Zhf75F6b0"
   },
   "source": [
    "**CONCLUSION**\n",
    "\n",
    "These are some of the quick insights from this exercise:\n",
    "\n",
    "1. Electronic check medium are the highest churners\n",
    "2. Contract Type - Monthly customers are more likely to churn because of no contract terms, as they are free to go customers.\n",
    "3. No Online security, No Tech Support category are high churners\n",
    "4. Non senior Citizens are high churners"
   ]
  },
  {
   "cell_type": "markdown",
   "metadata": {
    "id": "Ob-onKeXKaeF"
   },
   "source": [
    "## DATA SCALING"
   ]
  },
  {
   "cell_type": "code",
   "execution_count": null,
   "metadata": {
    "id": "AyiAe-icKahM"
   },
   "outputs": [],
   "source": [
    "df3=df2.copy()"
   ]
  },
  {
   "cell_type": "code",
   "execution_count": null,
   "metadata": {
    "colab": {
     "base_uri": "https://localhost:8080/"
    },
    "id": "XtrKLML_KajX",
    "outputId": "28bee17f-e4b7-43b4-d049-a2d94fddc290"
   },
   "outputs": [],
   "source": [
    "df2.info()"
   ]
  },
  {
   "cell_type": "code",
   "execution_count": null,
   "metadata": {
    "colab": {
     "base_uri": "https://localhost:8080/",
     "height": 290
    },
    "id": "VqhZWoFdKamT",
    "outputId": "6b641068-48f8-4420-a534-e2e3cd14c0de"
   },
   "outputs": [],
   "source": [
    "for i in ['SeniorCitizen','MonthlyCharges','TotalCharges'] :\n",
    "        df3[i]=(df3[i]-df3[i].mean())/df3[i].std()\n",
    "df3.head()"
   ]
  },
  {
   "cell_type": "code",
   "execution_count": null,
   "metadata": {
    "colab": {
     "base_uri": "https://localhost:8080/"
    },
    "id": "DddhilcgKao2",
    "outputId": "e537193f-edfb-4fa1-9973-987b9ae82502"
   },
   "outputs": [],
   "source": [
    "for i in ['SeniorCitizen','MonthlyCharges','TotalCharges'] :\n",
    "    outlier_data=df3[(df3[i]>3)|(df3[i]<-3)]\n",
    "print(outlier_data)"
   ]
  },
  {
   "cell_type": "markdown",
   "metadata": {
    "id": "aqk02Y31K-HJ"
   },
   "source": [
    "*No outlier present*"
   ]
  },
  {
   "cell_type": "code",
   "execution_count": null,
   "metadata": {
    "id": "6S59v5GtK-Jn"
   },
   "outputs": [],
   "source": [
    "#This converts Bool true/false to integer 1/0\n",
    "boolean_columns = df3.select_dtypes(include='bool').columns\n",
    "df3[boolean_columns] = df3[boolean_columns].astype(int)"
   ]
  },
  {
   "cell_type": "code",
   "execution_count": null,
   "metadata": {
    "colab": {
     "base_uri": "https://localhost:8080/",
     "height": 290
    },
    "id": "2YQkzd3gK-N7",
    "outputId": "e2261be2-b170-4c6c-cacf-ffd7f60e94f8"
   },
   "outputs": [],
   "source": [
    "df3.head()"
   ]
  },
  {
   "cell_type": "markdown",
   "metadata": {
    "id": "tpiguPzYK-Qr"
   },
   "source": [
    "## EXPERIMENT 1:  PERFORMANCE OF UNBALANCED MODEL"
   ]
  },
  {
   "cell_type": "code",
   "execution_count": null,
   "metadata": {
    "id": "-K7IongcK-Vv"
   },
   "outputs": [],
   "source": [
    "X = df3.drop('Churn', axis=1)\n",
    "Y= df3['Churn']"
   ]
  },
  {
   "cell_type": "code",
   "execution_count": null,
   "metadata": {
    "id": "-oHjPbQ9L-8m"
   },
   "outputs": [],
   "source": [
    "from sklearn.model_selection import train_test_split\n",
    "from sklearn.metrics import accuracy_score, precision_score, recall_score, f1_score\n",
    "X_train, X_test, y_train, y_test = train_test_split(X, Y, test_size=0.2, random_state=42)\n",
    "def train_and_evaluate_model(model, X_train, X_test, y_train, y_test):\n",
    "    \"\"\"\n",
    "\n",
    "    Parameters:\n",
    "        model: The machine learning model to be trained and evaluated.\n",
    "        X_train: Training features (numpy array or pandas DataFrame).\n",
    "        X_test: Testing features (numpy array or pandas DataFrame).\n",
    "        y_train: Training labels (numpy array or pandas Series).\n",
    "        y_test: Testing labels (numpy array or pandas Series).\n",
    "\n",
    "    Returns:\n",
    "        train_accuracy: Accuracy of the model on the training data.\n",
    "        test_accuracy: Accuracy of the model on the testing data.\n",
    "        train_precision: Precision of the model on the training data.\n",
    "        test_precision: Precision of the model on the testing data.\n",
    "        train_recall: Recall of the model on the training data.\n",
    "        test_recall: Recall of the model on the testing data.\n",
    "        train_f1: F1 score of the model on the training data.\n",
    "        test_f1: F1 score of the model on the testing data.\n",
    "    \"\"\"\n",
    "    # Train the model\n",
    "    model.fit(X_train, y_train)\n",
    "\n",
    "    # Make predictions on training and testing data\n",
    "    y_train_pred = model.predict(X_train)\n",
    "    y_test_pred = model.predict(X_test)\n",
    "\n",
    "    # Calculate metrics\n",
    "    train_accuracy = accuracy_score(y_train, y_train_pred)\n",
    "    test_accuracy = accuracy_score(y_test, y_test_pred)\n",
    "\n",
    "    train_precision = precision_score(y_train, y_train_pred)\n",
    "    test_precision = precision_score(y_test, y_test_pred)\n",
    "\n",
    "    train_recall = recall_score(y_train, y_train_pred)\n",
    "    test_recall = recall_score(y_test, y_test_pred)\n",
    "\n",
    "    train_f1 = f1_score(y_train, y_train_pred)\n",
    "    test_f1 = f1_score(y_test, y_test_pred)\n",
    "\n",
    "    return train_accuracy, test_accuracy, train_precision, test_precision, train_recall, test_recall, train_f1, test_f1\n"
   ]
  },
  {
   "cell_type": "code",
   "execution_count": null,
   "metadata": {
    "colab": {
     "base_uri": "https://localhost:8080/"
    },
    "id": "phYRUFtjL-_0",
    "outputId": "c16a95f0-d82e-4605-f313-e9467076174c"
   },
   "outputs": [],
   "source": [
    "# Importing the models to use\n",
    "from sklearn.tree import DecisionTreeClassifier\n",
    "from sklearn.naive_bayes import GaussianNB\n",
    "from sklearn.neighbors import KNeighborsClassifier\n",
    "from sklearn.ensemble import RandomForestClassifier, AdaBoostClassifier\n",
    "from sklearn.svm import SVC\n",
    "from sklearn.linear_model import LogisticRegression\n",
    "from sklearn.ensemble import BaggingClassifier\n",
    "\n",
    "# Creating a list of models\n",
    "models = [\n",
    "    DecisionTreeClassifier(),\n",
    "    GaussianNB(),\n",
    "    RandomForestClassifier(),\n",
    "    SVC(),\n",
    "    LogisticRegression(max_iter=1000),\n",
    "    AdaBoostClassifier(),\n",
    "    BaggingClassifier(),\n",
    "    KNeighborsClassifier()\n",
    "]\n",
    "\n",
    "# Training and evaluating each model using the loop\n",
    "for model in models:\n",
    "    #calling the function\n",
    "    train_acc, test_acc, train_prec, test_prec, train_recall, test_recall, train_f1, test_f1 = train_and_evaluate_model(model, X_train, X_test, y_train, y_test)\n",
    "\n",
    "    # Printing the metrics for the current model\n",
    "    print(\"Model:\", type(model).__name__)\n",
    "    print(\"Training Accuracy:\", train_acc)\n",
    "    print(\"Testing Accuracy:\", test_acc)\n",
    "    print(\"Training Precision:\", train_prec)\n",
    "    print(\"Testing Precision:\", test_prec)\n",
    "    print(\"Training Recall:\", train_recall)\n",
    "    print(\"Testing Recall:\", test_recall)\n",
    "    print(\"Training F1 Score:\", train_f1)\n",
    "    print(\"Testing F1 Score:\", test_f1)\n",
    "    print(\"-----------\")\n"
   ]
  },
  {
   "cell_type": "markdown",
   "metadata": {
    "id": "dHiOKa0bL_CF"
   },
   "source": [
    "## EXPERIMENT 2: PERFORMANCE ON UNSCALED DATA"
   ]
  },
  {
   "cell_type": "code",
   "execution_count": null,
   "metadata": {
    "id": "L1sAC-E1Nh5H"
   },
   "outputs": [],
   "source": [
    "df4=df2.copy()"
   ]
  },
  {
   "cell_type": "code",
   "execution_count": null,
   "metadata": {
    "colab": {
     "base_uri": "https://localhost:8080/",
     "height": 290
    },
    "id": "hXfF-x88L_Eh",
    "outputId": "fe4b0000-df44-464a-cdb7-cc5ff8189397"
   },
   "outputs": [],
   "source": [
    "df4.head()"
   ]
  },
  {
   "cell_type": "code",
   "execution_count": null,
   "metadata": {
    "id": "uId1hsM3L_HN"
   },
   "outputs": [],
   "source": [
    "boolean_columns = df4.select_dtypes(include='bool').columns\n",
    "df4[boolean_columns] = df4[boolean_columns].astype(int)"
   ]
  },
  {
   "cell_type": "code",
   "execution_count": null,
   "metadata": {
    "colab": {
     "base_uri": "https://localhost:8080/",
     "height": 290
    },
    "id": "c1VJPvtaL_J6",
    "outputId": "cef9768f-240e-49d1-f9ef-d4529c39dc9b"
   },
   "outputs": [],
   "source": [
    "df4.head()"
   ]
  },
  {
   "cell_type": "code",
   "execution_count": null,
   "metadata": {
    "id": "PDar0z1jNt22"
   },
   "outputs": [],
   "source": [
    "X = df4.drop('Churn', axis=1)\n",
    "Y= df4['Churn']"
   ]
  },
  {
   "cell_type": "code",
   "execution_count": null,
   "metadata": {
    "colab": {
     "base_uri": "https://localhost:8080/"
    },
    "id": "AAgy4N_nNt56",
    "outputId": "58419f00-934d-4022-c115-63494c83c8ea"
   },
   "outputs": [],
   "source": [
    "X_train, X_test, y_train, y_test = train_test_split(X, Y, test_size=0.2, random_state=42)\n",
    "# Creating a list of models\n",
    "models = [\n",
    "    DecisionTreeClassifier(),\n",
    "    GaussianNB(),\n",
    "    RandomForestClassifier(),\n",
    "    SVC(),\n",
    "    LogisticRegression(max_iter=1000),\n",
    "    AdaBoostClassifier(),\n",
    "    BaggingClassifier(),\n",
    "    KNeighborsClassifier()\n",
    "]\n",
    "\n",
    "# Training and evaluating each model using the loop\n",
    "for model in models:\n",
    "    #calling the function\n",
    "    train_acc, test_acc, train_prec, test_prec, train_recall, test_recall, train_f1, test_f1 = train_and_evaluate_model(model, X_train, X_test, y_train, y_test)\n",
    "\n",
    "    # Printing the metrics for the current model\n",
    "    print(\"Model:\", type(model).__name__)\n",
    "    print(\"Training Accuracy:\", train_acc)\n",
    "    print(\"Testing Accuracy:\", test_acc)\n",
    "    print(\"Training Precision:\", train_prec)\n",
    "    print(\"Testing Precision:\", test_prec)\n",
    "    print(\"Training Recall:\", train_recall)\n",
    "    print(\"Testing Recall:\", test_recall)\n",
    "    print(\"Training F1 Score:\", train_f1)\n",
    "    print(\"Testing F1 Score:\", test_f1)\n",
    "    print(\"-----------\")"
   ]
  },
  {
   "cell_type": "markdown",
   "metadata": {
    "id": "OtuFb29HNt8d"
   },
   "source": [
    "## EXPERIMENT\t3:\tDATA\tRESAMPLING\tUSING\tRandomOverSampler"
   ]
  },
  {
   "cell_type": "markdown",
   "metadata": {
    "id": "svNhD9JiPnUV"
   },
   "source": [
    "Random\tOver-Sampling\tis\ta\tresampling\ttechnique\tused\tto\thandle\tclass\timbalance\tin\ta\tdataset.\tIn\tscenarios\twhere\tone\tclass\tis\n",
    " significantly\tunderrepresented\tcompared\tto\tthe\tother(s),\tmachine\tlearning\tmodels\tcan\tbecome\tbiased\ttowards\tthe\tmajority\tclass,\tleading\n",
    " to\tpoor\tperformance\ton\tthe\tminority\tclass.\n",
    "\n",
    " To\taddress\tthis,\tRandom\tOver-Sampling\tinvolves\trandomly\tselecting\tinstances\tfrom\tthe\tminority\tclass\tand\tduplicating\tthem\tto\tincrease\n",
    " their\trepresentation.\tBy\tadding\tmore\tinstances\tof\tthe\tminority\tclass,\tthe\tclass\tdistribution\tbecomes\tmore\tbalanced,\tand\tthe\tmodel\tcan\n",
    " learn\tbetter\tfrom\tthese\tsamples\tduring\ttraining.\n",
    "\n",
    " While\tRandom\tOver-Sampling\tcan\tbe\teffective\tin\timproving\tmodel\tperformance\ton\tthe\tminority\tclass,\tit\thas\tsome\tpotential\tdrawbacks.\n",
    " Duplicating\texisting\tinstances\tmay\tresult\tin\toverfitting,\twhere\tthe\tmodel\tmemorizes\tthe\ttraining\tdata\trather\tthan\tgeneralizing\tto\tnew\tdata.\n",
    " Additionally,\tif\tthe\tdataset\tis\tsmall,\tcreating\tduplicates\tcould\tlead\tto\tlimited\tdiversity\tand\tloss\tof\tinformation"
   ]
  },
  {
   "cell_type": "code",
   "execution_count": null,
   "metadata": {
    "id": "OywJdR87PKFM"
   },
   "outputs": [],
   "source": [
    "X = df3.drop('Churn', axis=1)\n",
    "Y= df3['Churn']"
   ]
  },
  {
   "cell_type": "code",
   "execution_count": null,
   "metadata": {
    "id": "R6Q79dD3PKPv"
   },
   "outputs": [],
   "source": [
    "##\tRandomOverSampler\tto\thandle\timbalanced\tdata\n",
    "from\timblearn.over_sampling\timport\tRandomOverSampler\n",
    "os\t=RandomOverSampler(sampling_strategy=1)\t#\tratio\tof\t0.8\tbetween\tthe\tclasses\n",
    "X_res1,\tY_res1=\tos.fit_resample(X,Y)"
   ]
  },
  {
   "cell_type": "code",
   "execution_count": null,
   "metadata": {
    "colab": {
     "base_uri": "https://localhost:8080/"
    },
    "id": "rWZNzqgLNt_Z",
    "outputId": "ec368302-13fa-4770-8db9-fb3494a83102"
   },
   "outputs": [],
   "source": [
    " print(X_res1.shape,Y_res1.shape)"
   ]
  },
  {
   "cell_type": "code",
   "execution_count": null,
   "metadata": {
    "colab": {
     "base_uri": "https://localhost:8080/"
    },
    "id": "BAA4qfVhL_Mw",
    "outputId": "69c1389d-b905-4b14-85dc-511d0187b630"
   },
   "outputs": [],
   "source": [
    "from\tcollections\timport\tCounter\n",
    "print('Original\tdataset\tshape\t{}'.format(Counter(Y)))\n",
    "print('Resampled\tdataset\tshape\t{}'.format(Counter(Y_res1)))"
   ]
  },
  {
   "cell_type": "code",
   "execution_count": null,
   "metadata": {
    "colab": {
     "base_uri": "https://localhost:8080/"
    },
    "id": "Q8agESlVL_Pg",
    "outputId": "7d971855-e272-457c-b6d4-6085117abc9c"
   },
   "outputs": [],
   "source": [
    "X_train, X_test, y_train, y_test = train_test_split(X_res1, Y_res1, test_size=0.2, random_state=42)\n",
    "# Creating a list of models\n",
    "models = [\n",
    "    DecisionTreeClassifier(),\n",
    "    GaussianNB(),\n",
    "    RandomForestClassifier(),\n",
    "    SVC(),\n",
    "    LogisticRegression(max_iter=1000),\n",
    "    AdaBoostClassifier(),\n",
    "    BaggingClassifier(),\n",
    "    KNeighborsClassifier()\n",
    "]\n",
    "\n",
    "# Training and evaluating each model using the loop\n",
    "for model in models:\n",
    "    #calling the function\n",
    "    train_acc, test_acc, train_prec, test_prec, train_recall, test_recall, train_f1, test_f1 = train_and_evaluate_model(model, X_train, X_test, y_train, y_test)\n",
    "\n",
    "    # Printing the metrics for the current model\n",
    "    print(\"Model:\", type(model).__name__)\n",
    "    print(\"Training Accuracy:\", train_acc)\n",
    "    print(\"Testing Accuracy:\", test_acc)\n",
    "    print(\"Training Precision:\", train_prec)\n",
    "    print(\"Testing Precision:\", test_prec)\n",
    "    print(\"Training Recall:\", train_recall)\n",
    "    print(\"Testing Recall:\", test_recall)\n",
    "    print(\"Training F1 Score:\", train_f1)\n",
    "    print(\"Testing F1 Score:\", test_f1)\n",
    "    print(\"-----------\")"
   ]
  },
  {
   "cell_type": "markdown",
   "metadata": {
    "id": "B6YlX6kxL_Rt"
   },
   "source": [
    "## EXPERIMENT\t4:\tDATA\tRESAMPLING\tUSING\tSMOTE+TOMEK"
   ]
  },
  {
   "cell_type": "markdown",
   "metadata": {
    "id": "QLXmvS4DQZFC"
   },
   "source": [
    " SMOTE\t(Synthetic\tMinority\tOver-sampling\tTechnique)\tis\ta\tpopular\tmethod\tfor\tdealing\twith\timbalanced\tdatasets.\tIt\tworks\tby\tcreating\n",
    " synthetic\tsamples\tfor\tthe\tminority\tclass\tby\tinterpolating\tbetween\texisting\tsamples.\tThis\ttechnique\thelps\tto\tbalance\tthe\tclass\tdistribution\n",
    " and\tprovide\tthe\tmodel\twith\tmore\texamples\tof\tthe\tminority\tclass,\timproving\tits\tability\tto\tlearn\tfrom\tthe\tminority\tclass.\n",
    "\n",
    " TOMEK\t(Tomek\tlinks)\tis\ta\tmethod\tused\tto\taddress\tthe\tissue\tof\toverlapping\tsamples\tbetween\tdifferent\tclasses.\tTOMEK\tlinks\tidentify\n",
    " pairs\tof\tsamples\tfrom\tdifferent\tclasses\tthat\tare\teach\tother's\tnearest\tneighbors.\tThese\tpairs\trepresent\tambiguous\tor\tborderline\tsamples\n",
    " that\tlie\tclose\tto\tthe\tdecision\tboundary\tand\tmay\tcause\tclassification\terrors.\tBy\tremoving\tthese\tambiguous\tsamples,\tTOMEK\tlinks\tcan\n",
    " enhance\tthe\tseparation\tbetween\tclasses\tand\timprove\tthe\tdecision\tboundary's\tquality.\n",
    "\n",
    " When\tused\tin\tcombination,\tSMOTE+TOMEK\tcan\tbe\tapplied\tas\ta\ttwo-step\tapproach\tto\thandle\timbalanced\tdatasets.\tSMOTE\tfirst\n",
    " oversamples\tthe\tminority\tclass\tto\tbalance\tthe\tdataset,\tand\tthen\tTOMEK\tlinks\tare\temployed\tto\tremove\tambiguous\tsamples,\tresulting\tin\n",
    " a\tmore\tbalanced\tdataset\twith\tan\timproved\tdecision\tboundary.\tThis\tcombined\tapproach\tcan\tlead\tto\tbetter\tmodel\tperformance,\tespecially\n",
    " when\tdealing\twith\timbalanced\tdata\tdistributions."
   ]
  },
  {
   "cell_type": "code",
   "execution_count": null,
   "metadata": {
    "id": "lx8esUmpQkN6"
   },
   "outputs": [],
   "source": [
    "X = df3.drop('Churn', axis=1)\n",
    "Y= df3['Churn']"
   ]
  },
  {
   "cell_type": "code",
   "execution_count": null,
   "metadata": {
    "id": "d8rj-eRgQZIG"
   },
   "outputs": [],
   "source": [
    " from\timblearn.combine\timport\tSMOTETomek\n",
    " smk\t=\tSMOTETomek(random_state=123)\n",
    " X_res,Y_res=smk.fit_resample(X,Y)\t##\tApplying\tthe\tresampling\ttechnique\tto\tthe\tdata"
   ]
  },
  {
   "cell_type": "code",
   "execution_count": null,
   "metadata": {
    "colab": {
     "base_uri": "https://localhost:8080/"
    },
    "id": "4CvaTRjqQZMR",
    "outputId": "5bc0e2ac-df81-4051-f05b-965c5ce7d7b6"
   },
   "outputs": [],
   "source": [
    "print(X.shape,Y.shape)\n",
    "print(X_res.shape,Y_res.shape)"
   ]
  },
  {
   "cell_type": "code",
   "execution_count": null,
   "metadata": {
    "colab": {
     "base_uri": "https://localhost:8080/"
    },
    "id": "RoTcAt73QZON",
    "outputId": "683f414b-2380-4b60-d4d5-0f9320f78bdb"
   },
   "outputs": [],
   "source": [
    "print('Original\tdataset\tshape\t{}'.format(Counter(Y)))\n",
    "print('Resampled\tdataset\tshape\t{}'.format(Counter(Y_res)))"
   ]
  },
  {
   "cell_type": "code",
   "execution_count": null,
   "metadata": {
    "colab": {
     "base_uri": "https://localhost:8080/"
    },
    "id": "cKlvKpsdQZTf",
    "outputId": "cb95f10f-e8cf-4ca5-ff84-cc8e31e74543"
   },
   "outputs": [],
   "source": [
    "X_train, X_test, y_train, y_test = train_test_split(X_res, Y_res, test_size=0.2, random_state=42)\n",
    "# Creating a list of models\n",
    "models = [\n",
    "    DecisionTreeClassifier(),\n",
    "    GaussianNB(),\n",
    "    RandomForestClassifier(),\n",
    "    SVC(),\n",
    "    LogisticRegression(max_iter=1000),\n",
    "    AdaBoostClassifier(),\n",
    "    BaggingClassifier(),\n",
    "    KNeighborsClassifier()\n",
    "]\n",
    "\n",
    "# Training and evaluating each model using the loop\n",
    "for model in models:\n",
    "    #calling the function\n",
    "    train_acc, test_acc, train_prec, test_prec, train_recall, test_recall, train_f1, test_f1 = train_and_evaluate_model(model, X_train, X_test, y_train, y_test)\n",
    "\n",
    "    # Printing the metrics for the current model\n",
    "    print(\"Model:\", type(model).__name__)\n",
    "    print(\"Training Accuracy:\", train_acc)\n",
    "    print(\"Testing Accuracy:\", test_acc)\n",
    "    print(\"Training Precision:\", train_prec)\n",
    "    print(\"Testing Precision:\", test_prec)\n",
    "    print(\"Training Recall:\", train_recall)\n",
    "    print(\"Testing Recall:\", test_recall)\n",
    "    print(\"Training F1 Score:\", train_f1)\n",
    "    print(\"Testing F1 Score:\", test_f1)\n",
    "    print(\"-----------\")"
   ]
  },
  {
   "cell_type": "markdown",
   "metadata": {
    "id": "Nz6po50xQZW2"
   },
   "source": [
    "**The models are performing much better on balanced data as compared to unbalanced data.**"
   ]
  },
  {
   "cell_type": "code",
   "execution_count": null,
   "metadata": {
    "id": "d2bsLzIVmfpD"
   },
   "outputs": [],
   "source": []
  },
  {
   "cell_type": "code",
   "execution_count": null,
   "metadata": {
    "colab": {
     "base_uri": "https://localhost:8080/",
     "height": 74
    },
    "id": "VSNey1NTmfuu",
    "outputId": "a4d3575c-e5ba-4bc5-cd0f-91c3d0e92541"
   },
   "outputs": [],
   "source": [
    "X = df3.drop('Churn', axis=1)\n",
    "Y= df3['Churn']\n",
    "X_train, X_test, y_train, y_test = train_test_split(X, Y, test_size=0.2, random_state=42)\n",
    "from sklearn.ensemble import RandomForestClassifier, AdaBoostClassifier\n",
    "rf=RandomForestClassifier();\n",
    "rf.fit(X_train, y_train)"
   ]
  },
  {
   "cell_type": "code",
   "execution_count": null,
   "metadata": {
    "colab": {
     "base_uri": "https://localhost:8080/"
    },
    "id": "IzrgsHGFnTH8",
    "outputId": "945569b1-219b-4bb9-c0c0-07f85b166b88"
   },
   "outputs": [],
   "source": [
    "train_acc, test_acc, train_prec, test_prec, train_recall, test_recall, train_f1, test_f1 = train_and_evaluate_model(rf, X_train, X_test, y_train, y_test)\n",
    "# Printing the metrics for the current mode\n",
    "# print(\"Model:\", type(model).__name__)\n",
    "print(\"Training Accuracy:\", train_acc)\n",
    "print(\"Testing Accuracy:\", test_acc)\n",
    "print(\"Training Precision:\", train_prec)\n",
    "print(\"Testing Precision:\", test_prec)\n",
    "print(\"Training Recall:\", train_recall)\n",
    "print(\"Testing Recall:\", test_recall)\n",
    "print(\"Training F1 Score:\", train_f1)\n",
    "print(\"Testing F1 Score:\", test_f1)\n",
    "# print(\"-----------\")"
   ]
  },
  {
   "cell_type": "code",
   "execution_count": null,
   "metadata": {
    "id": "WjKV0M2_FFDN"
   },
   "outputs": [],
   "source": [
    "import pickle\n",
    "pickle.dump(rf,open('model.pkl','wb')) # wb: binary mode"
   ]
  },
  {
   "cell_type": "code",
   "execution_count": null,
   "metadata": {
    "id": "eEofNTlroHqE"
   },
   "outputs": [],
   "source": []
  }
 ],
 "metadata": {
  "colab": {
   "provenance": []
  },
  "kernelspec": {
   "display_name": "Python 3 (ipykernel)",
   "language": "python",
   "name": "python3"
  },
  "language_info": {
   "codemirror_mode": {
    "name": "ipython",
    "version": 3
   },
   "file_extension": ".py",
   "mimetype": "text/x-python",
   "name": "python",
   "nbconvert_exporter": "python",
   "pygments_lexer": "ipython3",
   "version": "3.11.5"
  }
 },
 "nbformat": 4,
 "nbformat_minor": 1
}
